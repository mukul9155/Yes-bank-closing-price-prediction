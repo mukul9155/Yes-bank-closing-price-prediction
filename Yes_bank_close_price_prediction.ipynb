{
  "nbformat": 4,
  "nbformat_minor": 0,
  "metadata": {
    "colab": {
      "provenance": [],
      "mount_file_id": "1U9_8t9CvKX8gbqfj4lmXHFBQHGI8n0HH",
      "authorship_tag": "ABX9TyPjuB4h+GLzD9iPOglKLNBu",
      "include_colab_link": true
    },
    "kernelspec": {
      "name": "python3",
      "display_name": "Python 3"
    },
    "language_info": {
      "name": "python"
    }
  },
  "cells": [
    {
      "cell_type": "markdown",
      "metadata": {
        "id": "view-in-github",
        "colab_type": "text"
      },
      "source": [
        "<a href=\"https://colab.research.google.com/github/mukul9155/Yes-bank-closing-price-prediction/blob/main/Yes_bank_close_price_prediction.ipynb\" target=\"_parent\"><img src=\"https://colab.research.google.com/assets/colab-badge.svg\" alt=\"Open In Colab\"/></a>"
      ]
    },
    {
      "cell_type": "markdown",
      "source": [
        "Yes Bank is a well-known bank in the Indian financial domain. Since 2018, it has been in the\n",
        "news because of the fraud case involving Rana Kapoor. Owing to this fact, it was interesting\n",
        "to see how that impacted the stock prices of the company and whether Time series models\n",
        "or any other predictive models can do justice to such situations. This dataset has monthly\n",
        "stock prices of the bank since its inception and includes closing, starting, highest, and lowest\n",
        "stock prices of every month. The main objective is to predict the stock’s closing price of the\n",
        "month."
      ],
      "metadata": {
        "id": "dQD6uDppmo-_"
      }
    },
    {
      "cell_type": "code",
      "source": [
        "# Importing libraries\n",
        "import pandas as pd \n",
        "import numpy as np\n",
        "\n",
        "# Importing visualization packages\n",
        "import matplotlib.pyplot as plt\n",
        "%matplotlib inline\n",
        "import seaborn as sns\n",
        "import seaborn as seabornInstance\n",
        "\n",
        "# Importing machine learning packages\n",
        "from sklearn.model_selection import train_test_split\n",
        "from sklearn.linear_model import LinearRegression, Ridge, Lasso, ElasticNet\n",
        "from matplotlib import style\n",
        "from sklearn.preprocessing import MinMaxScaler\n",
        "from sklearn.metrics import r2_score\n",
        "from sklearn.metrics import mean_squared_error\n",
        "from sklearn.metrics import mean_absolute_error\n",
        "from math import sqrt\n",
        "from sklearn.metrics import confusion_matrix, accuracy_score\n",
        "from sklearn import metrics\n",
        "import math"
      ],
      "metadata": {
        "id": "M1IjcFHameF9"
      },
      "execution_count": 1,
      "outputs": []
    },
    {
      "cell_type": "code",
      "source": [
        "from google.colab import drive\n",
        "drive.mount('/content/drive')"
      ],
      "metadata": {
        "colab": {
          "base_uri": "https://localhost:8080/"
        },
        "id": "9j3asEa2ncVF",
        "outputId": "73b3dc69-db68-49a8-ea5e-e163af42218f"
      },
      "execution_count": 2,
      "outputs": [
        {
          "output_type": "stream",
          "name": "stdout",
          "text": [
            "Drive already mounted at /content/drive; to attempt to forcibly remount, call drive.mount(\"/content/drive\", force_remount=True).\n"
          ]
        }
      ]
    },
    {
      "cell_type": "code",
      "source": [
        "# insert the data file\n",
        "path = '/content/drive/MyDrive/Colab Notebooks/yes bank close price prediction/data_YesBank_StockPrices.csv'"
      ],
      "metadata": {
        "id": "b7E3A86XmDst"
      },
      "execution_count": 3,
      "outputs": []
    },
    {
      "cell_type": "code",
      "source": [
        "# Importing the dataset\n",
        "df = pd.read_csv(path)"
      ],
      "metadata": {
        "id": "MXVE-ESSnclQ"
      },
      "execution_count": 4,
      "outputs": []
    },
    {
      "cell_type": "code",
      "source": [
        "# Importing the dataset\n",
        "df = pd.DataFrame(df)"
      ],
      "metadata": {
        "id": "3M4uRvgDnctX"
      },
      "execution_count": 5,
      "outputs": []
    },
    {
      "cell_type": "markdown",
      "source": [
        "More understanding of the data"
      ],
      "metadata": {
        "id": "w64phx9hmZoh"
      }
    },
    {
      "cell_type": "code",
      "source": [
        "# Viewing top 5 rows of the data\n",
        "df.head()"
      ],
      "metadata": {
        "id": "WdJr5Cfsnc13",
        "colab": {
          "base_uri": "https://localhost:8080/",
          "height": 206
        },
        "outputId": "6b7a56dc-36fc-42c5-c481-b77975f1123b"
      },
      "execution_count": 6,
      "outputs": [
        {
          "output_type": "execute_result",
          "data": {
            "text/plain": [
              "     Date   Open   High    Low  Close\n",
              "0  Jul-05  13.00  14.00  11.25  12.46\n",
              "1  Aug-05  12.58  14.88  12.55  13.42\n",
              "2  Sep-05  13.48  14.87  12.27  13.30\n",
              "3  Oct-05  13.20  14.47  12.40  12.99\n",
              "4  Nov-05  13.35  13.88  12.88  13.41"
            ],
            "text/html": [
              "\n",
              "  <div id=\"df-3a9cd2c4-b12c-4d9c-b386-d1ffd371336c\">\n",
              "    <div class=\"colab-df-container\">\n",
              "      <div>\n",
              "<style scoped>\n",
              "    .dataframe tbody tr th:only-of-type {\n",
              "        vertical-align: middle;\n",
              "    }\n",
              "\n",
              "    .dataframe tbody tr th {\n",
              "        vertical-align: top;\n",
              "    }\n",
              "\n",
              "    .dataframe thead th {\n",
              "        text-align: right;\n",
              "    }\n",
              "</style>\n",
              "<table border=\"1\" class=\"dataframe\">\n",
              "  <thead>\n",
              "    <tr style=\"text-align: right;\">\n",
              "      <th></th>\n",
              "      <th>Date</th>\n",
              "      <th>Open</th>\n",
              "      <th>High</th>\n",
              "      <th>Low</th>\n",
              "      <th>Close</th>\n",
              "    </tr>\n",
              "  </thead>\n",
              "  <tbody>\n",
              "    <tr>\n",
              "      <th>0</th>\n",
              "      <td>Jul-05</td>\n",
              "      <td>13.00</td>\n",
              "      <td>14.00</td>\n",
              "      <td>11.25</td>\n",
              "      <td>12.46</td>\n",
              "    </tr>\n",
              "    <tr>\n",
              "      <th>1</th>\n",
              "      <td>Aug-05</td>\n",
              "      <td>12.58</td>\n",
              "      <td>14.88</td>\n",
              "      <td>12.55</td>\n",
              "      <td>13.42</td>\n",
              "    </tr>\n",
              "    <tr>\n",
              "      <th>2</th>\n",
              "      <td>Sep-05</td>\n",
              "      <td>13.48</td>\n",
              "      <td>14.87</td>\n",
              "      <td>12.27</td>\n",
              "      <td>13.30</td>\n",
              "    </tr>\n",
              "    <tr>\n",
              "      <th>3</th>\n",
              "      <td>Oct-05</td>\n",
              "      <td>13.20</td>\n",
              "      <td>14.47</td>\n",
              "      <td>12.40</td>\n",
              "      <td>12.99</td>\n",
              "    </tr>\n",
              "    <tr>\n",
              "      <th>4</th>\n",
              "      <td>Nov-05</td>\n",
              "      <td>13.35</td>\n",
              "      <td>13.88</td>\n",
              "      <td>12.88</td>\n",
              "      <td>13.41</td>\n",
              "    </tr>\n",
              "  </tbody>\n",
              "</table>\n",
              "</div>\n",
              "      <button class=\"colab-df-convert\" onclick=\"convertToInteractive('df-3a9cd2c4-b12c-4d9c-b386-d1ffd371336c')\"\n",
              "              title=\"Convert this dataframe to an interactive table.\"\n",
              "              style=\"display:none;\">\n",
              "        \n",
              "  <svg xmlns=\"http://www.w3.org/2000/svg\" height=\"24px\"viewBox=\"0 0 24 24\"\n",
              "       width=\"24px\">\n",
              "    <path d=\"M0 0h24v24H0V0z\" fill=\"none\"/>\n",
              "    <path d=\"M18.56 5.44l.94 2.06.94-2.06 2.06-.94-2.06-.94-.94-2.06-.94 2.06-2.06.94zm-11 1L8.5 8.5l.94-2.06 2.06-.94-2.06-.94L8.5 2.5l-.94 2.06-2.06.94zm10 10l.94 2.06.94-2.06 2.06-.94-2.06-.94-.94-2.06-.94 2.06-2.06.94z\"/><path d=\"M17.41 7.96l-1.37-1.37c-.4-.4-.92-.59-1.43-.59-.52 0-1.04.2-1.43.59L10.3 9.45l-7.72 7.72c-.78.78-.78 2.05 0 2.83L4 21.41c.39.39.9.59 1.41.59.51 0 1.02-.2 1.41-.59l7.78-7.78 2.81-2.81c.8-.78.8-2.07 0-2.86zM5.41 20L4 18.59l7.72-7.72 1.47 1.35L5.41 20z\"/>\n",
              "  </svg>\n",
              "      </button>\n",
              "      \n",
              "  <style>\n",
              "    .colab-df-container {\n",
              "      display:flex;\n",
              "      flex-wrap:wrap;\n",
              "      gap: 12px;\n",
              "    }\n",
              "\n",
              "    .colab-df-convert {\n",
              "      background-color: #E8F0FE;\n",
              "      border: none;\n",
              "      border-radius: 50%;\n",
              "      cursor: pointer;\n",
              "      display: none;\n",
              "      fill: #1967D2;\n",
              "      height: 32px;\n",
              "      padding: 0 0 0 0;\n",
              "      width: 32px;\n",
              "    }\n",
              "\n",
              "    .colab-df-convert:hover {\n",
              "      background-color: #E2EBFA;\n",
              "      box-shadow: 0px 1px 2px rgba(60, 64, 67, 0.3), 0px 1px 3px 1px rgba(60, 64, 67, 0.15);\n",
              "      fill: #174EA6;\n",
              "    }\n",
              "\n",
              "    [theme=dark] .colab-df-convert {\n",
              "      background-color: #3B4455;\n",
              "      fill: #D2E3FC;\n",
              "    }\n",
              "\n",
              "    [theme=dark] .colab-df-convert:hover {\n",
              "      background-color: #434B5C;\n",
              "      box-shadow: 0px 1px 3px 1px rgba(0, 0, 0, 0.15);\n",
              "      filter: drop-shadow(0px 1px 2px rgba(0, 0, 0, 0.3));\n",
              "      fill: #FFFFFF;\n",
              "    }\n",
              "  </style>\n",
              "\n",
              "      <script>\n",
              "        const buttonEl =\n",
              "          document.querySelector('#df-3a9cd2c4-b12c-4d9c-b386-d1ffd371336c button.colab-df-convert');\n",
              "        buttonEl.style.display =\n",
              "          google.colab.kernel.accessAllowed ? 'block' : 'none';\n",
              "\n",
              "        async function convertToInteractive(key) {\n",
              "          const element = document.querySelector('#df-3a9cd2c4-b12c-4d9c-b386-d1ffd371336c');\n",
              "          const dataTable =\n",
              "            await google.colab.kernel.invokeFunction('convertToInteractive',\n",
              "                                                     [key], {});\n",
              "          if (!dataTable) return;\n",
              "\n",
              "          const docLinkHtml = 'Like what you see? Visit the ' +\n",
              "            '<a target=\"_blank\" href=https://colab.research.google.com/notebooks/data_table.ipynb>data table notebook</a>'\n",
              "            + ' to learn more about interactive tables.';\n",
              "          element.innerHTML = '';\n",
              "          dataTable['output_type'] = 'display_data';\n",
              "          await google.colab.output.renderOutput(dataTable, element);\n",
              "          const docLink = document.createElement('div');\n",
              "          docLink.innerHTML = docLinkHtml;\n",
              "          element.appendChild(docLink);\n",
              "        }\n",
              "      </script>\n",
              "    </div>\n",
              "  </div>\n",
              "  "
            ]
          },
          "metadata": {},
          "execution_count": 6
        }
      ]
    },
    {
      "cell_type": "code",
      "source": [
        "# View of bottom 5 rows of the data\n",
        "df.tail()"
      ],
      "metadata": {
        "id": "G9EWFnhJnc9Y",
        "colab": {
          "base_uri": "https://localhost:8080/",
          "height": 206
        },
        "outputId": "fe9c2046-8f2c-427b-e42f-8c24db60a2a3"
      },
      "execution_count": 7,
      "outputs": [
        {
          "output_type": "execute_result",
          "data": {
            "text/plain": [
              "       Date   Open   High    Low  Close\n",
              "180  Jul-20  25.60  28.30  11.10  11.95\n",
              "181  Aug-20  12.00  17.16  11.85  14.37\n",
              "182  Sep-20  14.30  15.34  12.75  13.15\n",
              "183  Oct-20  13.30  14.01  12.11  12.42\n",
              "184  Nov-20  12.41  14.90  12.21  14.67"
            ],
            "text/html": [
              "\n",
              "  <div id=\"df-1d162665-b34c-49e4-b855-89bac14bf82a\">\n",
              "    <div class=\"colab-df-container\">\n",
              "      <div>\n",
              "<style scoped>\n",
              "    .dataframe tbody tr th:only-of-type {\n",
              "        vertical-align: middle;\n",
              "    }\n",
              "\n",
              "    .dataframe tbody tr th {\n",
              "        vertical-align: top;\n",
              "    }\n",
              "\n",
              "    .dataframe thead th {\n",
              "        text-align: right;\n",
              "    }\n",
              "</style>\n",
              "<table border=\"1\" class=\"dataframe\">\n",
              "  <thead>\n",
              "    <tr style=\"text-align: right;\">\n",
              "      <th></th>\n",
              "      <th>Date</th>\n",
              "      <th>Open</th>\n",
              "      <th>High</th>\n",
              "      <th>Low</th>\n",
              "      <th>Close</th>\n",
              "    </tr>\n",
              "  </thead>\n",
              "  <tbody>\n",
              "    <tr>\n",
              "      <th>180</th>\n",
              "      <td>Jul-20</td>\n",
              "      <td>25.60</td>\n",
              "      <td>28.30</td>\n",
              "      <td>11.10</td>\n",
              "      <td>11.95</td>\n",
              "    </tr>\n",
              "    <tr>\n",
              "      <th>181</th>\n",
              "      <td>Aug-20</td>\n",
              "      <td>12.00</td>\n",
              "      <td>17.16</td>\n",
              "      <td>11.85</td>\n",
              "      <td>14.37</td>\n",
              "    </tr>\n",
              "    <tr>\n",
              "      <th>182</th>\n",
              "      <td>Sep-20</td>\n",
              "      <td>14.30</td>\n",
              "      <td>15.34</td>\n",
              "      <td>12.75</td>\n",
              "      <td>13.15</td>\n",
              "    </tr>\n",
              "    <tr>\n",
              "      <th>183</th>\n",
              "      <td>Oct-20</td>\n",
              "      <td>13.30</td>\n",
              "      <td>14.01</td>\n",
              "      <td>12.11</td>\n",
              "      <td>12.42</td>\n",
              "    </tr>\n",
              "    <tr>\n",
              "      <th>184</th>\n",
              "      <td>Nov-20</td>\n",
              "      <td>12.41</td>\n",
              "      <td>14.90</td>\n",
              "      <td>12.21</td>\n",
              "      <td>14.67</td>\n",
              "    </tr>\n",
              "  </tbody>\n",
              "</table>\n",
              "</div>\n",
              "      <button class=\"colab-df-convert\" onclick=\"convertToInteractive('df-1d162665-b34c-49e4-b855-89bac14bf82a')\"\n",
              "              title=\"Convert this dataframe to an interactive table.\"\n",
              "              style=\"display:none;\">\n",
              "        \n",
              "  <svg xmlns=\"http://www.w3.org/2000/svg\" height=\"24px\"viewBox=\"0 0 24 24\"\n",
              "       width=\"24px\">\n",
              "    <path d=\"M0 0h24v24H0V0z\" fill=\"none\"/>\n",
              "    <path d=\"M18.56 5.44l.94 2.06.94-2.06 2.06-.94-2.06-.94-.94-2.06-.94 2.06-2.06.94zm-11 1L8.5 8.5l.94-2.06 2.06-.94-2.06-.94L8.5 2.5l-.94 2.06-2.06.94zm10 10l.94 2.06.94-2.06 2.06-.94-2.06-.94-.94-2.06-.94 2.06-2.06.94z\"/><path d=\"M17.41 7.96l-1.37-1.37c-.4-.4-.92-.59-1.43-.59-.52 0-1.04.2-1.43.59L10.3 9.45l-7.72 7.72c-.78.78-.78 2.05 0 2.83L4 21.41c.39.39.9.59 1.41.59.51 0 1.02-.2 1.41-.59l7.78-7.78 2.81-2.81c.8-.78.8-2.07 0-2.86zM5.41 20L4 18.59l7.72-7.72 1.47 1.35L5.41 20z\"/>\n",
              "  </svg>\n",
              "      </button>\n",
              "      \n",
              "  <style>\n",
              "    .colab-df-container {\n",
              "      display:flex;\n",
              "      flex-wrap:wrap;\n",
              "      gap: 12px;\n",
              "    }\n",
              "\n",
              "    .colab-df-convert {\n",
              "      background-color: #E8F0FE;\n",
              "      border: none;\n",
              "      border-radius: 50%;\n",
              "      cursor: pointer;\n",
              "      display: none;\n",
              "      fill: #1967D2;\n",
              "      height: 32px;\n",
              "      padding: 0 0 0 0;\n",
              "      width: 32px;\n",
              "    }\n",
              "\n",
              "    .colab-df-convert:hover {\n",
              "      background-color: #E2EBFA;\n",
              "      box-shadow: 0px 1px 2px rgba(60, 64, 67, 0.3), 0px 1px 3px 1px rgba(60, 64, 67, 0.15);\n",
              "      fill: #174EA6;\n",
              "    }\n",
              "\n",
              "    [theme=dark] .colab-df-convert {\n",
              "      background-color: #3B4455;\n",
              "      fill: #D2E3FC;\n",
              "    }\n",
              "\n",
              "    [theme=dark] .colab-df-convert:hover {\n",
              "      background-color: #434B5C;\n",
              "      box-shadow: 0px 1px 3px 1px rgba(0, 0, 0, 0.15);\n",
              "      filter: drop-shadow(0px 1px 2px rgba(0, 0, 0, 0.3));\n",
              "      fill: #FFFFFF;\n",
              "    }\n",
              "  </style>\n",
              "\n",
              "      <script>\n",
              "        const buttonEl =\n",
              "          document.querySelector('#df-1d162665-b34c-49e4-b855-89bac14bf82a button.colab-df-convert');\n",
              "        buttonEl.style.display =\n",
              "          google.colab.kernel.accessAllowed ? 'block' : 'none';\n",
              "\n",
              "        async function convertToInteractive(key) {\n",
              "          const element = document.querySelector('#df-1d162665-b34c-49e4-b855-89bac14bf82a');\n",
              "          const dataTable =\n",
              "            await google.colab.kernel.invokeFunction('convertToInteractive',\n",
              "                                                     [key], {});\n",
              "          if (!dataTable) return;\n",
              "\n",
              "          const docLinkHtml = 'Like what you see? Visit the ' +\n",
              "            '<a target=\"_blank\" href=https://colab.research.google.com/notebooks/data_table.ipynb>data table notebook</a>'\n",
              "            + ' to learn more about interactive tables.';\n",
              "          element.innerHTML = '';\n",
              "          dataTable['output_type'] = 'display_data';\n",
              "          await google.colab.output.renderOutput(dataTable, element);\n",
              "          const docLink = document.createElement('div');\n",
              "          docLink.innerHTML = docLinkHtml;\n",
              "          element.appendChild(docLink);\n",
              "        }\n",
              "      </script>\n",
              "    </div>\n",
              "  </div>\n",
              "  "
            ]
          },
          "metadata": {},
          "execution_count": 7
        }
      ]
    },
    {
      "cell_type": "code",
      "source": [
        "# Knowing the rows and columns of the data\n",
        "df.shape"
      ],
      "metadata": {
        "id": "i5xG2KIRndA5",
        "colab": {
          "base_uri": "https://localhost:8080/"
        },
        "outputId": "9644ac2f-ceef-4b8e-9a36-7ecafeac4ce8"
      },
      "execution_count": 8,
      "outputs": [
        {
          "output_type": "execute_result",
          "data": {
            "text/plain": [
              "(185, 5)"
            ]
          },
          "metadata": {},
          "execution_count": 8
        }
      ]
    },
    {
      "cell_type": "code",
      "source": [
        "# Getting the list of columns\n",
        "list(df.columns)"
      ],
      "metadata": {
        "id": "162_Cm1lndEu",
        "colab": {
          "base_uri": "https://localhost:8080/"
        },
        "outputId": "6c9a48c8-a1f7-41d8-baee-ca3636a46289"
      },
      "execution_count": 9,
      "outputs": [
        {
          "output_type": "execute_result",
          "data": {
            "text/plain": [
              "['Date', 'Open', 'High', 'Low', 'Close']"
            ]
          },
          "metadata": {},
          "execution_count": 9
        }
      ]
    },
    {
      "cell_type": "markdown",
      "source": [
        "# **Description of columns**"
      ],
      "metadata": {
        "id": "9ue9KJ3emlmp"
      }
    },
    {
      "cell_type": "markdown",
      "source": [
        "\n",
        "\n",
        "*   Date -  Date on which stock market is live for trading\n",
        "\n",
        "*   Open -  The initial price of share at which market open on that   particular day\n",
        "\n",
        "*  High -  Maximum price of share at any time on that particular day \n",
        "*  Low  -  Minimum price of share at any time on that particular day\n",
        "*  Close-  The final price of share at which market closes on that particular \n",
        "day\n",
        "\n",
        "\n",
        "\n",
        "\n",
        "\n",
        "\n",
        "\n",
        "\n",
        "\n",
        "\n",
        "\n",
        "\n"
      ],
      "metadata": {
        "id": "sr2PIoptq3LT"
      }
    },
    {
      "cell_type": "code",
      "source": [
        "# Finding the data types of the columns\n",
        "df.dtypes"
      ],
      "metadata": {
        "id": "ZNO0lMJpndWP",
        "colab": {
          "base_uri": "https://localhost:8080/"
        },
        "outputId": "3c0d9216-01f9-4039-ebfc-5eb2f00d211c"
      },
      "execution_count": 10,
      "outputs": [
        {
          "output_type": "execute_result",
          "data": {
            "text/plain": [
              "Date      object\n",
              "Open     float64\n",
              "High     float64\n",
              "Low      float64\n",
              "Close    float64\n",
              "dtype: object"
            ]
          },
          "metadata": {},
          "execution_count": 10
        }
      ]
    },
    {
      "cell_type": "markdown",
      "source": [
        "# Checking for missing and duplicate values"
      ],
      "metadata": {
        "id": "kPhst5GRm0pK"
      }
    },
    {
      "cell_type": "code",
      "source": [
        "# Checking the null values\n",
        "df.isnull().sum()"
      ],
      "metadata": {
        "id": "GWddmElSndc9",
        "colab": {
          "base_uri": "https://localhost:8080/"
        },
        "outputId": "f7e7240b-1bf0-45c7-bdc0-aaad7c522a5b"
      },
      "execution_count": 11,
      "outputs": [
        {
          "output_type": "execute_result",
          "data": {
            "text/plain": [
              "Date     0\n",
              "Open     0\n",
              "High     0\n",
              "Low      0\n",
              "Close    0\n",
              "dtype: int64"
            ]
          },
          "metadata": {},
          "execution_count": 11
        }
      ]
    },
    {
      "cell_type": "code",
      "source": [
        "# Cecking of null values using boolean\n",
        "df.isna().any()"
      ],
      "metadata": {
        "id": "J6e-serTndga",
        "colab": {
          "base_uri": "https://localhost:8080/"
        },
        "outputId": "b92f0ad8-0f35-4ccf-c67c-ce478ca38725"
      },
      "execution_count": 12,
      "outputs": [
        {
          "output_type": "execute_result",
          "data": {
            "text/plain": [
              "Date     False\n",
              "Open     False\n",
              "High     False\n",
              "Low      False\n",
              "Close    False\n",
              "dtype: bool"
            ]
          },
          "metadata": {},
          "execution_count": 12
        }
      ]
    },
    {
      "cell_type": "code",
      "source": [
        "# Checking the duplicate values\n",
        "len(df[df.duplicated()])"
      ],
      "metadata": {
        "id": "_z5_QOgfndp9",
        "colab": {
          "base_uri": "https://localhost:8080/"
        },
        "outputId": "84077f65-4e10-45b2-e402-789f295c558d"
      },
      "execution_count": 13,
      "outputs": [
        {
          "output_type": "execute_result",
          "data": {
            "text/plain": [
              "0"
            ]
          },
          "metadata": {},
          "execution_count": 13
        }
      ]
    },
    {
      "cell_type": "code",
      "source": [
        "# Details of the dataset\n",
        "df.info()"
      ],
      "metadata": {
        "id": "P1KpIpo0nds8",
        "colab": {
          "base_uri": "https://localhost:8080/"
        },
        "outputId": "53239efd-497e-4dad-ab7c-73cd0d028cd1"
      },
      "execution_count": 14,
      "outputs": [
        {
          "output_type": "stream",
          "name": "stdout",
          "text": [
            "<class 'pandas.core.frame.DataFrame'>\n",
            "RangeIndex: 185 entries, 0 to 184\n",
            "Data columns (total 5 columns):\n",
            " #   Column  Non-Null Count  Dtype  \n",
            "---  ------  --------------  -----  \n",
            " 0   Date    185 non-null    object \n",
            " 1   Open    185 non-null    float64\n",
            " 2   High    185 non-null    float64\n",
            " 3   Low     185 non-null    float64\n",
            " 4   Close   185 non-null    float64\n",
            "dtypes: float64(4), object(1)\n",
            "memory usage: 7.4+ KB\n"
          ]
        }
      ]
    },
    {
      "cell_type": "markdown",
      "source": [
        "Here we have seen that all 185 entries are present and there is no null values,\n",
        "Out of which 4- float data type and 1- object data type. So, There is no need to do the calculation regarding missing values. "
      ],
      "metadata": {
        "id": "nBfZJOvzeMKF"
      }
    },
    {
      "cell_type": "markdown",
      "source": [
        "# Description of dataset to find insights from the data"
      ],
      "metadata": {
        "id": "nWcZltvoeTHV"
      }
    },
    {
      "cell_type": "code",
      "source": [
        "# Description of data\n",
        "df.describe()"
      ],
      "metadata": {
        "id": "vycvnISZnd2y",
        "colab": {
          "base_uri": "https://localhost:8080/",
          "height": 300
        },
        "outputId": "ed8d3ddd-a5d7-45c0-b80c-d0dea0b51fe2"
      },
      "execution_count": 15,
      "outputs": [
        {
          "output_type": "execute_result",
          "data": {
            "text/plain": [
              "             Open        High         Low       Close\n",
              "count  185.000000  185.000000  185.000000  185.000000\n",
              "mean   105.541405  116.104324   94.947838  105.204703\n",
              "std     98.879850  106.333497   91.219415   98.583153\n",
              "min     10.000000   11.240000    5.550000    9.980000\n",
              "25%     33.800000   36.140000   28.510000   33.450000\n",
              "50%     62.980000   72.550000   58.000000   62.540000\n",
              "75%    153.000000  169.190000  138.350000  153.300000\n",
              "max    369.950000  404.000000  345.500000  367.900000"
            ],
            "text/html": [
              "\n",
              "  <div id=\"df-255789fd-dc71-44b1-b810-2a454634d62c\">\n",
              "    <div class=\"colab-df-container\">\n",
              "      <div>\n",
              "<style scoped>\n",
              "    .dataframe tbody tr th:only-of-type {\n",
              "        vertical-align: middle;\n",
              "    }\n",
              "\n",
              "    .dataframe tbody tr th {\n",
              "        vertical-align: top;\n",
              "    }\n",
              "\n",
              "    .dataframe thead th {\n",
              "        text-align: right;\n",
              "    }\n",
              "</style>\n",
              "<table border=\"1\" class=\"dataframe\">\n",
              "  <thead>\n",
              "    <tr style=\"text-align: right;\">\n",
              "      <th></th>\n",
              "      <th>Open</th>\n",
              "      <th>High</th>\n",
              "      <th>Low</th>\n",
              "      <th>Close</th>\n",
              "    </tr>\n",
              "  </thead>\n",
              "  <tbody>\n",
              "    <tr>\n",
              "      <th>count</th>\n",
              "      <td>185.000000</td>\n",
              "      <td>185.000000</td>\n",
              "      <td>185.000000</td>\n",
              "      <td>185.000000</td>\n",
              "    </tr>\n",
              "    <tr>\n",
              "      <th>mean</th>\n",
              "      <td>105.541405</td>\n",
              "      <td>116.104324</td>\n",
              "      <td>94.947838</td>\n",
              "      <td>105.204703</td>\n",
              "    </tr>\n",
              "    <tr>\n",
              "      <th>std</th>\n",
              "      <td>98.879850</td>\n",
              "      <td>106.333497</td>\n",
              "      <td>91.219415</td>\n",
              "      <td>98.583153</td>\n",
              "    </tr>\n",
              "    <tr>\n",
              "      <th>min</th>\n",
              "      <td>10.000000</td>\n",
              "      <td>11.240000</td>\n",
              "      <td>5.550000</td>\n",
              "      <td>9.980000</td>\n",
              "    </tr>\n",
              "    <tr>\n",
              "      <th>25%</th>\n",
              "      <td>33.800000</td>\n",
              "      <td>36.140000</td>\n",
              "      <td>28.510000</td>\n",
              "      <td>33.450000</td>\n",
              "    </tr>\n",
              "    <tr>\n",
              "      <th>50%</th>\n",
              "      <td>62.980000</td>\n",
              "      <td>72.550000</td>\n",
              "      <td>58.000000</td>\n",
              "      <td>62.540000</td>\n",
              "    </tr>\n",
              "    <tr>\n",
              "      <th>75%</th>\n",
              "      <td>153.000000</td>\n",
              "      <td>169.190000</td>\n",
              "      <td>138.350000</td>\n",
              "      <td>153.300000</td>\n",
              "    </tr>\n",
              "    <tr>\n",
              "      <th>max</th>\n",
              "      <td>369.950000</td>\n",
              "      <td>404.000000</td>\n",
              "      <td>345.500000</td>\n",
              "      <td>367.900000</td>\n",
              "    </tr>\n",
              "  </tbody>\n",
              "</table>\n",
              "</div>\n",
              "      <button class=\"colab-df-convert\" onclick=\"convertToInteractive('df-255789fd-dc71-44b1-b810-2a454634d62c')\"\n",
              "              title=\"Convert this dataframe to an interactive table.\"\n",
              "              style=\"display:none;\">\n",
              "        \n",
              "  <svg xmlns=\"http://www.w3.org/2000/svg\" height=\"24px\"viewBox=\"0 0 24 24\"\n",
              "       width=\"24px\">\n",
              "    <path d=\"M0 0h24v24H0V0z\" fill=\"none\"/>\n",
              "    <path d=\"M18.56 5.44l.94 2.06.94-2.06 2.06-.94-2.06-.94-.94-2.06-.94 2.06-2.06.94zm-11 1L8.5 8.5l.94-2.06 2.06-.94-2.06-.94L8.5 2.5l-.94 2.06-2.06.94zm10 10l.94 2.06.94-2.06 2.06-.94-2.06-.94-.94-2.06-.94 2.06-2.06.94z\"/><path d=\"M17.41 7.96l-1.37-1.37c-.4-.4-.92-.59-1.43-.59-.52 0-1.04.2-1.43.59L10.3 9.45l-7.72 7.72c-.78.78-.78 2.05 0 2.83L4 21.41c.39.39.9.59 1.41.59.51 0 1.02-.2 1.41-.59l7.78-7.78 2.81-2.81c.8-.78.8-2.07 0-2.86zM5.41 20L4 18.59l7.72-7.72 1.47 1.35L5.41 20z\"/>\n",
              "  </svg>\n",
              "      </button>\n",
              "      \n",
              "  <style>\n",
              "    .colab-df-container {\n",
              "      display:flex;\n",
              "      flex-wrap:wrap;\n",
              "      gap: 12px;\n",
              "    }\n",
              "\n",
              "    .colab-df-convert {\n",
              "      background-color: #E8F0FE;\n",
              "      border: none;\n",
              "      border-radius: 50%;\n",
              "      cursor: pointer;\n",
              "      display: none;\n",
              "      fill: #1967D2;\n",
              "      height: 32px;\n",
              "      padding: 0 0 0 0;\n",
              "      width: 32px;\n",
              "    }\n",
              "\n",
              "    .colab-df-convert:hover {\n",
              "      background-color: #E2EBFA;\n",
              "      box-shadow: 0px 1px 2px rgba(60, 64, 67, 0.3), 0px 1px 3px 1px rgba(60, 64, 67, 0.15);\n",
              "      fill: #174EA6;\n",
              "    }\n",
              "\n",
              "    [theme=dark] .colab-df-convert {\n",
              "      background-color: #3B4455;\n",
              "      fill: #D2E3FC;\n",
              "    }\n",
              "\n",
              "    [theme=dark] .colab-df-convert:hover {\n",
              "      background-color: #434B5C;\n",
              "      box-shadow: 0px 1px 3px 1px rgba(0, 0, 0, 0.15);\n",
              "      filter: drop-shadow(0px 1px 2px rgba(0, 0, 0, 0.3));\n",
              "      fill: #FFFFFF;\n",
              "    }\n",
              "  </style>\n",
              "\n",
              "      <script>\n",
              "        const buttonEl =\n",
              "          document.querySelector('#df-255789fd-dc71-44b1-b810-2a454634d62c button.colab-df-convert');\n",
              "        buttonEl.style.display =\n",
              "          google.colab.kernel.accessAllowed ? 'block' : 'none';\n",
              "\n",
              "        async function convertToInteractive(key) {\n",
              "          const element = document.querySelector('#df-255789fd-dc71-44b1-b810-2a454634d62c');\n",
              "          const dataTable =\n",
              "            await google.colab.kernel.invokeFunction('convertToInteractive',\n",
              "                                                     [key], {});\n",
              "          if (!dataTable) return;\n",
              "\n",
              "          const docLinkHtml = 'Like what you see? Visit the ' +\n",
              "            '<a target=\"_blank\" href=https://colab.research.google.com/notebooks/data_table.ipynb>data table notebook</a>'\n",
              "            + ' to learn more about interactive tables.';\n",
              "          element.innerHTML = '';\n",
              "          dataTable['output_type'] = 'display_data';\n",
              "          await google.colab.output.renderOutput(dataTable, element);\n",
              "          const docLink = document.createElement('div');\n",
              "          docLink.innerHTML = docLinkHtml;\n",
              "          element.appendChild(docLink);\n",
              "        }\n",
              "      </script>\n",
              "    </div>\n",
              "  </div>\n",
              "  "
            ]
          },
          "metadata": {},
          "execution_count": 15
        }
      ]
    },
    {
      "cell_type": "code",
      "source": [
        "# Rows and columns of data\n",
        "df.shape"
      ],
      "metadata": {
        "id": "fRkcV7eJnd5v",
        "colab": {
          "base_uri": "https://localhost:8080/"
        },
        "outputId": "f2046bda-3dfa-4400-feca-ea012dd41bde"
      },
      "execution_count": 16,
      "outputs": [
        {
          "output_type": "execute_result",
          "data": {
            "text/plain": [
              "(185, 5)"
            ]
          },
          "metadata": {},
          "execution_count": 16
        }
      ]
    },
    {
      "cell_type": "markdown",
      "source": [
        "# Exploratory data analysis of the given dataset"
      ],
      "metadata": {
        "id": "GmmZgrhfeeEs"
      }
    },
    {
      "cell_type": "code",
      "source": [
        "# Finding the corelation of the data \n",
        "df.corr()"
      ],
      "metadata": {
        "id": "oTiJGk0Knd9D",
        "colab": {
          "base_uri": "https://localhost:8080/",
          "height": 175
        },
        "outputId": "504bb575-d305-46eb-e192-7a88b27932a1"
      },
      "execution_count": 17,
      "outputs": [
        {
          "output_type": "execute_result",
          "data": {
            "text/plain": [
              "           Open      High       Low     Close\n",
              "Open   1.000000  0.993040  0.983978  0.977971\n",
              "High   0.993040  1.000000  0.983422  0.985051\n",
              "Low    0.983978  0.983422  1.000000  0.995358\n",
              "Close  0.977971  0.985051  0.995358  1.000000"
            ],
            "text/html": [
              "\n",
              "  <div id=\"df-426e5d52-be86-437d-82af-f79b6fde8916\">\n",
              "    <div class=\"colab-df-container\">\n",
              "      <div>\n",
              "<style scoped>\n",
              "    .dataframe tbody tr th:only-of-type {\n",
              "        vertical-align: middle;\n",
              "    }\n",
              "\n",
              "    .dataframe tbody tr th {\n",
              "        vertical-align: top;\n",
              "    }\n",
              "\n",
              "    .dataframe thead th {\n",
              "        text-align: right;\n",
              "    }\n",
              "</style>\n",
              "<table border=\"1\" class=\"dataframe\">\n",
              "  <thead>\n",
              "    <tr style=\"text-align: right;\">\n",
              "      <th></th>\n",
              "      <th>Open</th>\n",
              "      <th>High</th>\n",
              "      <th>Low</th>\n",
              "      <th>Close</th>\n",
              "    </tr>\n",
              "  </thead>\n",
              "  <tbody>\n",
              "    <tr>\n",
              "      <th>Open</th>\n",
              "      <td>1.000000</td>\n",
              "      <td>0.993040</td>\n",
              "      <td>0.983978</td>\n",
              "      <td>0.977971</td>\n",
              "    </tr>\n",
              "    <tr>\n",
              "      <th>High</th>\n",
              "      <td>0.993040</td>\n",
              "      <td>1.000000</td>\n",
              "      <td>0.983422</td>\n",
              "      <td>0.985051</td>\n",
              "    </tr>\n",
              "    <tr>\n",
              "      <th>Low</th>\n",
              "      <td>0.983978</td>\n",
              "      <td>0.983422</td>\n",
              "      <td>1.000000</td>\n",
              "      <td>0.995358</td>\n",
              "    </tr>\n",
              "    <tr>\n",
              "      <th>Close</th>\n",
              "      <td>0.977971</td>\n",
              "      <td>0.985051</td>\n",
              "      <td>0.995358</td>\n",
              "      <td>1.000000</td>\n",
              "    </tr>\n",
              "  </tbody>\n",
              "</table>\n",
              "</div>\n",
              "      <button class=\"colab-df-convert\" onclick=\"convertToInteractive('df-426e5d52-be86-437d-82af-f79b6fde8916')\"\n",
              "              title=\"Convert this dataframe to an interactive table.\"\n",
              "              style=\"display:none;\">\n",
              "        \n",
              "  <svg xmlns=\"http://www.w3.org/2000/svg\" height=\"24px\"viewBox=\"0 0 24 24\"\n",
              "       width=\"24px\">\n",
              "    <path d=\"M0 0h24v24H0V0z\" fill=\"none\"/>\n",
              "    <path d=\"M18.56 5.44l.94 2.06.94-2.06 2.06-.94-2.06-.94-.94-2.06-.94 2.06-2.06.94zm-11 1L8.5 8.5l.94-2.06 2.06-.94-2.06-.94L8.5 2.5l-.94 2.06-2.06.94zm10 10l.94 2.06.94-2.06 2.06-.94-2.06-.94-.94-2.06-.94 2.06-2.06.94z\"/><path d=\"M17.41 7.96l-1.37-1.37c-.4-.4-.92-.59-1.43-.59-.52 0-1.04.2-1.43.59L10.3 9.45l-7.72 7.72c-.78.78-.78 2.05 0 2.83L4 21.41c.39.39.9.59 1.41.59.51 0 1.02-.2 1.41-.59l7.78-7.78 2.81-2.81c.8-.78.8-2.07 0-2.86zM5.41 20L4 18.59l7.72-7.72 1.47 1.35L5.41 20z\"/>\n",
              "  </svg>\n",
              "      </button>\n",
              "      \n",
              "  <style>\n",
              "    .colab-df-container {\n",
              "      display:flex;\n",
              "      flex-wrap:wrap;\n",
              "      gap: 12px;\n",
              "    }\n",
              "\n",
              "    .colab-df-convert {\n",
              "      background-color: #E8F0FE;\n",
              "      border: none;\n",
              "      border-radius: 50%;\n",
              "      cursor: pointer;\n",
              "      display: none;\n",
              "      fill: #1967D2;\n",
              "      height: 32px;\n",
              "      padding: 0 0 0 0;\n",
              "      width: 32px;\n",
              "    }\n",
              "\n",
              "    .colab-df-convert:hover {\n",
              "      background-color: #E2EBFA;\n",
              "      box-shadow: 0px 1px 2px rgba(60, 64, 67, 0.3), 0px 1px 3px 1px rgba(60, 64, 67, 0.15);\n",
              "      fill: #174EA6;\n",
              "    }\n",
              "\n",
              "    [theme=dark] .colab-df-convert {\n",
              "      background-color: #3B4455;\n",
              "      fill: #D2E3FC;\n",
              "    }\n",
              "\n",
              "    [theme=dark] .colab-df-convert:hover {\n",
              "      background-color: #434B5C;\n",
              "      box-shadow: 0px 1px 3px 1px rgba(0, 0, 0, 0.15);\n",
              "      filter: drop-shadow(0px 1px 2px rgba(0, 0, 0, 0.3));\n",
              "      fill: #FFFFFF;\n",
              "    }\n",
              "  </style>\n",
              "\n",
              "      <script>\n",
              "        const buttonEl =\n",
              "          document.querySelector('#df-426e5d52-be86-437d-82af-f79b6fde8916 button.colab-df-convert');\n",
              "        buttonEl.style.display =\n",
              "          google.colab.kernel.accessAllowed ? 'block' : 'none';\n",
              "\n",
              "        async function convertToInteractive(key) {\n",
              "          const element = document.querySelector('#df-426e5d52-be86-437d-82af-f79b6fde8916');\n",
              "          const dataTable =\n",
              "            await google.colab.kernel.invokeFunction('convertToInteractive',\n",
              "                                                     [key], {});\n",
              "          if (!dataTable) return;\n",
              "\n",
              "          const docLinkHtml = 'Like what you see? Visit the ' +\n",
              "            '<a target=\"_blank\" href=https://colab.research.google.com/notebooks/data_table.ipynb>data table notebook</a>'\n",
              "            + ' to learn more about interactive tables.';\n",
              "          element.innerHTML = '';\n",
              "          dataTable['output_type'] = 'display_data';\n",
              "          await google.colab.output.renderOutput(dataTable, element);\n",
              "          const docLink = document.createElement('div');\n",
              "          docLink.innerHTML = docLinkHtml;\n",
              "          element.appendChild(docLink);\n",
              "        }\n",
              "      </script>\n",
              "    </div>\n",
              "  </div>\n",
              "  "
            ]
          },
          "metadata": {},
          "execution_count": 17
        }
      ]
    },
    {
      "cell_type": "code",
      "source": [
        "# showing the corelation with graph\n",
        "plt.figure(figsize=(15,8))\n",
        "correlation = df.corr()\n",
        "sns.heatmap(abs(correlation), annot=True, cmap='coolwarm')\n",
        "plt.show()"
      ],
      "metadata": {
        "id": "_QlECGxond__",
        "colab": {
          "base_uri": "https://localhost:8080/",
          "height": 487
        },
        "outputId": "c9e8e40d-df5e-4caa-c7fb-2ade262d4c1e"
      },
      "execution_count": 18,
      "outputs": [
        {
          "output_type": "display_data",
          "data": {
            "text/plain": [
              "<Figure size 1080x576 with 2 Axes>"
            ],
            "image/png": "[encoded data removed]"
          },
          "metadata": {
            "needs_background": "light"
          }
        }
      ]
    },
    {
      "cell_type": "markdown",
      "source": [
        "**Bar plot of dependent variable with independent variables**\n",
        "\n"
      ],
      "metadata": {
        "id": "8p96rE5U7MA6"
      }
    },
    {
      "cell_type": "code",
      "source": [
        "sns.displot(df['Close'], kde = True, color='g')\n",
        "plt.grid()\n",
        "plt.show()"
      ],
      "metadata": {
        "id": "6ueoPU3BneDD",
        "colab": {
          "base_uri": "https://localhost:8080/",
          "height": 369
        },
        "outputId": "86a4c781-6be9-4c19-a559-0019cb7cf09c"
      },
      "execution_count": 51,
      "outputs": [
        {
          "output_type": "display_data",
          "data": {
            "text/plain": [
              "<Figure size 360x360 with 1 Axes>"
            ],
            "image/png": "[encoded data removed]"
          },
          "metadata": {
            "needs_background": "light"
          }
        }
      ]
    },
    {
      "cell_type": "code",
      "source": [
        "sns.displot(df['Close'], kde = True, color='r')\n",
        "plt.grid()\n",
        "plt.show()"
      ],
      "metadata": {
        "id": "E5aoo61kneF_",
        "colab": {
          "base_uri": "https://localhost:8080/",
          "height": 369
        },
        "outputId": "c4dea69e-bdaa-4dea-84ad-740185cdec2f"
      },
      "execution_count": 52,
      "outputs": [
        {
          "output_type": "display_data",
          "data": {
            "text/plain": [
              "<Figure size 360x360 with 1 Axes>"
            ],
            "image/png": "[encoded data removed]"
          },
          "metadata": {
            "needs_background": "light"
          }
        }
      ]
    },
    {
      "cell_type": "code",
      "source": [
        "sns.displot(df['Close'], kde = True, color='b')\n",
        "plt.grid()\n",
        "plt.show()"
      ],
      "metadata": {
        "id": "XSnXL76PneJT",
        "colab": {
          "base_uri": "https://localhost:8080/",
          "height": 369
        },
        "outputId": "a2c0c5a6-9c98-49e6-9dac-6ba133eb31fe"
      },
      "execution_count": 53,
      "outputs": [
        {
          "output_type": "display_data",
          "data": {
            "text/plain": [
              "<Figure size 360x360 with 1 Axes>"
            ],
            "image/png": "[encoded data removed]"
          },
          "metadata": {
            "needs_background": "light"
          }
        }
      ]
    },
    {
      "cell_type": "markdown",
      "source": [
        "**Scatter plot of dependent variable with independent variables**"
      ],
      "metadata": {
        "id": "Rwnuuq8ee1B6"
      }
    },
    {
      "cell_type": "code",
      "source": [
        "plt.scatter(df['High'], df['Close'],alpha=1.0)\n",
        "plt.title('Scatter plot of Close Price with High Price')\n",
        "plt.xlabel('High Price')\n",
        "plt.ylabel('Close Price')\n",
        "plt.show()"
      ],
      "metadata": {
        "id": "SKTR-1BjnePC",
        "colab": {
          "base_uri": "https://localhost:8080/",
          "height": 295
        },
        "outputId": "2607ec02-dc34-45b0-91c1-b643cbbadc5d"
      },
      "execution_count": 54,
      "outputs": [
        {
          "output_type": "display_data",
          "data": {
            "text/plain": [
              "<Figure size 432x288 with 1 Axes>"
            ],
            "image/png": "[encoded data removed]"
          },
          "metadata": {
            "needs_background": "light"
          }
        }
      ]
    },
    {
      "cell_type": "code",
      "source": [
        "plt.scatter(df['Low'], df['Close'],alpha=1.0)\n",
        "plt.title('Scatter plot of Close Price with Low Price')\n",
        "plt.xlabel('Low Price')\n",
        "plt.ylabel('Close Price')\n",
        "plt.show()"
      ],
      "metadata": {
        "id": "YuCWwGx7neX_",
        "colab": {
          "base_uri": "https://localhost:8080/",
          "height": 295
        },
        "outputId": "ef9fcb81-6400-4e12-85ab-c2c9038fee77"
      },
      "execution_count": 55,
      "outputs": [
        {
          "output_type": "display_data",
          "data": {
            "text/plain": [
              "<Figure size 432x288 with 1 Axes>"
            ],
            "image/png": "[encoded data removed]"
          },
          "metadata": {
            "needs_background": "light"
          }
        }
      ]
    },
    {
      "cell_type": "code",
      "source": [
        "plt.scatter(df['Open'], df['Close'],alpha=1.0)\n",
        "plt.title('Scatter plot of Close Price with Open Price')\n",
        "plt.xlabel('Open Price')\n",
        "plt.ylabel('Close Price')\n",
        "plt.show()"
      ],
      "metadata": {
        "id": "_d9WD97rnea-",
        "colab": {
          "base_uri": "https://localhost:8080/",
          "height": 295
        },
        "outputId": "cef29baa-663b-4c7b-8d8a-fc232e87bee4"
      },
      "execution_count": 56,
      "outputs": [
        {
          "output_type": "display_data",
          "data": {
            "text/plain": [
              "<Figure size 432x288 with 1 Axes>"
            ],
            "image/png": "[encoded data removed]"
          },
          "metadata": {
            "needs_background": "light"
          }
        }
      ]
    },
    {
      "cell_type": "code",
      "source": [
        "df['Open'].plot(figsize=(16,6))\n",
        "plt.show()"
      ],
      "metadata": {
        "id": "U1A-42tqnedw",
        "colab": {
          "base_uri": "https://localhost:8080/",
          "height": 374
        },
        "outputId": "b4c16d2c-5d3f-4e9c-eefb-08ec72c0a895"
      },
      "execution_count": 25,
      "outputs": [
        {
          "output_type": "display_data",
          "data": {
            "text/plain": [
              "<Figure size 1152x432 with 1 Axes>"
            ],
            "image/png": "[encoded data removed]"
          },
          "metadata": {
            "needs_background": "light"
          }
        }
      ]
    },
    {
      "cell_type": "code",
      "source": [
        "df['High'].plot(figsize=(16,6))\n",
        "plt.show()"
      ],
      "metadata": {
        "id": "SUPQiVrjnegu",
        "colab": {
          "base_uri": "https://localhost:8080/",
          "height": 374
        },
        "outputId": "436ba4b9-496d-46d9-f232-e923e361134a"
      },
      "execution_count": 26,
      "outputs": [
        {
          "output_type": "display_data",
          "data": {
            "text/plain": [
              "<Figure size 1152x432 with 1 Axes>"
            ],
            "image/png": "[encoded data removed]"
          },
          "metadata": {
            "needs_background": "light"
          }
        }
      ]
    },
    {
      "cell_type": "code",
      "source": [
        "df['Low'].plot(figsize=(16,6))\n",
        "plt.show()"
      ],
      "metadata": {
        "id": "GAUrKa83nej2",
        "colab": {
          "base_uri": "https://localhost:8080/",
          "height": 374
        },
        "outputId": "496d4804-1eff-479a-f10a-7233d691af51"
      },
      "execution_count": 27,
      "outputs": [
        {
          "output_type": "display_data",
          "data": {
            "text/plain": [
              "<Figure size 1152x432 with 1 Axes>"
            ],
            "image/png": "[encoded data removed]"
          },
          "metadata": {
            "needs_background": "light"
          }
        }
      ]
    },
    {
      "cell_type": "code",
      "source": [
        "sns.pairplot(df)\n",
        "plt.show()"
      ],
      "metadata": {
        "id": "NHuhd1n6nemj",
        "colab": {
          "base_uri": "https://localhost:8080/",
          "height": 726
        },
        "outputId": "460b3d2a-cb32-42df-dc15-9fb980cef4c4"
      },
      "execution_count": 28,
      "outputs": [
        {
          "output_type": "display_data",
          "data": {
            "text/plain": [
              "<Figure size 720x720 with 20 Axes>"
            ],
            "image/png": "[encoded data removed]"
          },
          "metadata": {
            "needs_background": "light"
          }
        }
      ]
    },
    {
      "cell_type": "markdown",
      "source": [
        "Since independent variables(open, high, low) have linear relation with dependent variable 'close', So, I am using some linear models for prediction close price."
      ],
      "metadata": {
        "id": "_d3z9jXAfayi"
      }
    },
    {
      "cell_type": "markdown",
      "source": [
        "# Implementing Linear Regression"
      ],
      "metadata": {
        "id": "IOVYxtLznICV"
      }
    },
    {
      "cell_type": "code",
      "source": [
        "# Create the data of independent variables\n",
        "x = df[['High','Open', 'Low']].values\n",
        "\n",
        "# Create the data of dependent variable \n",
        "y = df[['Close']].values"
      ],
      "metadata": {
        "id": "vWMZzdwwfc-k"
      },
      "execution_count": 29,
      "outputs": []
    },
    {
      "cell_type": "code",
      "source": [
        "x.shape"
      ],
      "metadata": {
        "colab": {
          "base_uri": "https://localhost:8080/"
        },
        "id": "owzsO0-J8jdO",
        "outputId": "bc872f8d-2387-4d77-e056-da0b4c2017b7"
      },
      "execution_count": 60,
      "outputs": [
        {
          "output_type": "execute_result",
          "data": {
            "text/plain": [
              "(185, 3)"
            ]
          },
          "metadata": {},
          "execution_count": 60
        }
      ]
    },
    {
      "cell_type": "code",
      "source": [
        "y.shape"
      ],
      "metadata": {
        "colab": {
          "base_uri": "https://localhost:8080/"
        },
        "id": "sgqrBN528zF8",
        "outputId": "6ad3f716-b795-4f9f-b540-0ca5cbe2d44c"
      },
      "execution_count": 61,
      "outputs": [
        {
          "output_type": "execute_result",
          "data": {
            "text/plain": [
              "(185, 1)"
            ]
          },
          "metadata": {},
          "execution_count": 61
        }
      ]
    },
    {
      "cell_type": "code",
      "source": [
        "print(x)"
      ],
      "metadata": {
        "colab": {
          "base_uri": "https://localhost:8080/"
        },
        "id": "7STu-5lefdIL",
        "outputId": "b9589a9e-4189-4190-d3c1-9bdeaf1b54fa"
      },
      "execution_count": 30,
      "outputs": [
        {
          "output_type": "stream",
          "name": "stdout",
          "text": [
            "[[ 14.    13.    11.25]\n",
            " [ 14.88  12.58  12.55]\n",
            " [ 14.87  13.48  12.27]\n",
            " [ 14.47  13.2   12.4 ]\n",
            " [ 13.88  13.35  12.88]\n",
            " [ 14.44  13.49  13.  ]\n",
            " [ 17.16  13.68  13.58]\n",
            " [ 16.97  15.5   15.4 ]\n",
            " [ 20.95  16.2   16.02]\n",
            " [ 20.8   20.56  18.02]\n",
            " [ 21.8   19.8   15.8 ]\n",
            " [ 18.4   18.2   13.4 ]\n",
            " [ 17.2   16.    13.82]\n",
            " [ 18.6   15.9   15.7 ]\n",
            " [ 18.88  18.    16.8 ]\n",
            " [ 24.2   18.78  18.5 ]\n",
            " [ 28.47  22.8   21.4 ]\n",
            " [ 29.66  25.4   24.4 ]\n",
            " [ 34.16  27.4   27.  ]\n",
            " [ 32.6   30.2   26.8 ]\n",
            " [ 31.58  29.3   23.31]\n",
            " [ 31.99  27.    26.2 ]\n",
            " [ 36.14  30.66  29.11]\n",
            " [ 36.38  33.89  30.4 ]\n",
            " [ 41.04  35.98  35.02]\n",
            " [ 39.    37.5   30.2 ]\n",
            " [ 41.75  37.4   35.3 ]\n",
            " [ 47.3   41.8   33.6 ]\n",
            " [ 50.98  44.4   40.02]\n",
            " [ 54.    46.4   45.  ]\n",
            " [ 55.56  49.99  30.24]\n",
            " [ 53.97  50.88  44.4 ]\n",
            " [ 48.9   48.9   24.11]\n",
            " [ 35.8   33.9   28.51]\n",
            " [ 36.88  34.3   30.03]\n",
            " [ 32.22  31.22  22.62]\n",
            " [ 30.5   22.85  20.4 ]\n",
            " [ 28.98  25.    24.62]\n",
            " [ 29.8   26.68  21.7 ]\n",
            " [ 25.    24.6   11.01]\n",
            " [ 17.8   14.79  11.25]\n",
            " [ 16.56  12.4   11.13]\n",
            " [ 18.34  15.28  11.48]\n",
            " [ 12.5   12.19   9.9 ]\n",
            " [ 11.24  10.     8.16]\n",
            " [ 17.51  10.04   9.94]\n",
            " [ 28.84  15.94  14.76]\n",
            " [ 31.08  25.6   23.  ]\n",
            " [ 33.16  29.7   24.83]\n",
            " [ 35.18  31.98  29.  ]\n",
            " [ 41.3   33.8   32.  ]\n",
            " [ 52.34  41.2   36.8 ]\n",
            " [ 54.98  46.58  42.84]\n",
            " [ 55.67  50.98  48.6 ]\n",
            " [ 57.58  53.6   46.42]\n",
            " [ 51.48  49.    44.6 ]\n",
            " [ 52.06  47.8   47.3 ]\n",
            " [ 59.48  50.67  48.8 ]\n",
            " [ 58.08  56.94  50.66]\n",
            " [ 59.9   56.7   52.6 ]\n",
            " [ 60.94  53.55  53.02]\n",
            " [ 68.88  59.4   59.01]\n",
            " [ 71.74  62.8   62.51]\n",
            " [ 76.    70.9   68.21]\n",
            " [ 77.6   72.2   58.  ]\n",
            " [ 68.36  61.8   55.44]\n",
            " [ 63.54  62.98  49.39]\n",
            " [ 57.69  53.    46.71]\n",
            " [ 65.2   51.84  50.8 ]\n",
            " [ 68.26  62.    60.5 ]\n",
            " [ 61.68  61.26  54.5 ]\n",
            " [ 63.39  60.4   54.8 ]\n",
            " [ 68.    63.    61.36]\n",
            " [ 63.96  62.9   50.51]\n",
            " [ 60.08  56.    51.2 ]\n",
            " [ 64.8   53.8   48.1 ]\n",
            " [ 63.7   62.2   52.04]\n",
            " [ 59.8   57.    47.4 ]\n",
            " [ 66.5   47.92  46.11]\n",
            " [ 74.8   65.9   63.6 ]\n",
            " [ 77.88  69.    66.2 ]\n",
            " [ 76.1   73.62  69.11]\n",
            " [ 70.59  70.4   58.85]\n",
            " [ 70.6   65.45  62.14]\n",
            " [ 73.19  68.15  67.57]\n",
            " [ 74.78  73.    65.27]\n",
            " [ 77.69  66.2   64.46]\n",
            " [ 84.2   76.4   75.6 ]\n",
            " [ 89.6   82.54  82.22]\n",
            " [ 95.    89.2   88.01]\n",
            " [107.    93.2   93.2 ]\n",
            " [107.8  104.41  93.4 ]\n",
            " [100.15  94.    83.42]\n",
            " [101.8   85.7   83.43]\n",
            " [109.43 100.99  97.2 ]\n",
            " [102.94  99.    87.15]\n",
            " [100.4   92.4   57.71]\n",
            " [ 67.81  66.    43.22]\n",
            " [ 78.94  49.2   44.8 ]\n",
            " [ 76.44  58.    56.08]\n",
            " [ 77.27  74.    64.65]\n",
            " [ 83.    74.4   71.63]\n",
            " [ 76.35  74.74  60.8 ]\n",
            " [ 62.7   61.54  58.42]\n",
            " [ 83.36  60.52  60.34]\n",
            " [ 94.98  83.45  80.8 ]\n",
            " [117.6   88.8   86.98]\n",
            " [117.57 114.8  101.62]\n",
            " [114.46 108.43 100.44]\n",
            " [118.69 107.4  103.31]\n",
            " [126.85 114.6  107.18]\n",
            " [137.8  112.1  109.2 ]\n",
            " [143.91 137.1  132.44]\n",
            " [155.   142.08 134.  ]\n",
            " [179.   154.4  150.47]\n",
            " [173.88 172.5  156.1 ]\n",
            " [182.   174.8  156.8 ]\n",
            " [172.8  162.8  154.53]\n",
            " [176.96 170.   157.8 ]\n",
            " [179.4  177.   158.9 ]\n",
            " [175.58 169.   156.45]\n",
            " [169.19 165.9  118.  ]\n",
            " [155.5  135.61 127.  ]\n",
            " [155.94 146.96 141.73]\n",
            " [157.96 151.73 144.03]\n",
            " [154.52 153.   133.71]\n",
            " [149.9  145.   126.45]\n",
            " [157.85 150.4  132.74]\n",
            " [175.12 138.8  138.35]\n",
            " [190.44 172.02 165.33]\n",
            " [209.   189.8  181.28]\n",
            " [223.   206.4  201.14]\n",
            " [247.18 221.96 221.35]\n",
            " [275.   244.   240.68]\n",
            " [290.   273.3  231.2 ]\n",
            " [265.5  253.41 245.8 ]\n",
            " [262.72 255.   219.1 ]\n",
            " [245.   235.4  218.25]\n",
            " [284.31 231.98 226.3 ]\n",
            " [294.19 280.4  275.61]\n",
            " [311.57 290.6  283.6 ]\n",
            " [330.58 309.6  300.2 ]\n",
            " [330.3  326.   275.15]\n",
            " [306.34 286.66 280.21]\n",
            " [372.   293.04 290.78]\n",
            " [368.52 363.   337.37]\n",
            " [383.25 351.   345.5 ]\n",
            " [375.75 354.6  299.  ]\n",
            " [329.8  315.5  296.  ]\n",
            " [319.   307.2  300.65]\n",
            " [366.   314.   307.35]\n",
            " [366.5  355.   304.65]\n",
            " [325.8  320.7  285.1 ]\n",
            " [368.75 305.   303.3 ]\n",
            " [364.4  362.85 325.7 ]\n",
            " [350.1  348.   327.35]\n",
            " [393.35 340.   332.45]\n",
            " [404.   369.95 338.  ]\n",
            " [350.   347.2  166.15]\n",
            " [268.45 180.   168.6 ]\n",
            " [231.4  192.   147.  ]\n",
            " [194.3  174.   160.2 ]\n",
            " [236.3  182.85 181.15]\n",
            " [236.9  197.   167.65]\n",
            " [281.3  234.6  228.8 ]\n",
            " [285.9  277.   165.3 ]\n",
            " [178.05 163.3  133.05]\n",
            " [153.8  147.95  98.75]\n",
            " [110.6  109.6   81.75]\n",
            " [ 92.4   89.2   53.15]\n",
            " [ 72.55  59.5   40.95]\n",
            " [ 76.65  42.    29.05]\n",
            " [ 75.35  71.    59.95]\n",
            " [ 70.5   70.    40.7 ]\n",
            " [ 48.5   46.9   36.55]\n",
            " [ 40.7   39.1   33.6 ]\n",
            " [ 87.95  35.2    5.55]\n",
            " [ 30.45  22.3   20.3 ]\n",
            " [ 31.6   27.8   25.2 ]\n",
            " [ 31.95  27.75  25.55]\n",
            " [ 28.3   25.6   11.1 ]\n",
            " [ 17.16  12.    11.85]\n",
            " [ 15.34  14.3   12.75]\n",
            " [ 14.01  13.3   12.11]\n",
            " [ 14.9   12.41  12.21]]\n"
          ]
        }
      ]
    },
    {
      "cell_type": "code",
      "source": [
        "print(y)"
      ],
      "metadata": {
        "colab": {
          "base_uri": "https://localhost:8080/"
        },
        "id": "yttJF0EpfdM9",
        "outputId": "b90d67b8-3dae-4251-8831-945e4f738f53"
      },
      "execution_count": 31,
      "outputs": [
        {
          "output_type": "stream",
          "name": "stdout",
          "text": [
            "[[ 12.46]\n",
            " [ 13.42]\n",
            " [ 13.3 ]\n",
            " [ 12.99]\n",
            " [ 13.41]\n",
            " [ 13.71]\n",
            " [ 15.33]\n",
            " [ 16.12]\n",
            " [ 20.08]\n",
            " [ 19.49]\n",
            " [ 18.03]\n",
            " [ 15.62]\n",
            " [ 16.16]\n",
            " [ 17.84]\n",
            " [ 18.46]\n",
            " [ 22.78]\n",
            " [ 25.32]\n",
            " [ 26.97]\n",
            " [ 30.16]\n",
            " [ 28.63]\n",
            " [ 28.14]\n",
            " [ 30.31]\n",
            " [ 33.51]\n",
            " [ 35.98]\n",
            " [ 37.93]\n",
            " [ 36.99]\n",
            " [ 41.36]\n",
            " [ 43.48]\n",
            " [ 46.18]\n",
            " [ 49.81]\n",
            " [ 50.54]\n",
            " [ 49.42]\n",
            " [ 33.75]\n",
            " [ 34.06]\n",
            " [ 31.13]\n",
            " [ 22.85]\n",
            " [ 25.45]\n",
            " [ 26.83]\n",
            " [ 24.13]\n",
            " [ 13.58]\n",
            " [ 12.26]\n",
            " [ 15.03]\n",
            " [ 12.24]\n",
            " [ 10.26]\n",
            " [  9.98]\n",
            " [ 15.45]\n",
            " [ 25.12]\n",
            " [ 29.68]\n",
            " [ 31.93]\n",
            " [ 33.45]\n",
            " [ 40.99]\n",
            " [ 47.31]\n",
            " [ 50.57]\n",
            " [ 53.41]\n",
            " [ 49.84]\n",
            " [ 47.32]\n",
            " [ 50.97]\n",
            " [ 57.1 ]\n",
            " [ 57.57]\n",
            " [ 53.83]\n",
            " [ 58.99]\n",
            " [ 62.22]\n",
            " [ 70.3 ]\n",
            " [ 71.86]\n",
            " [ 61.21]\n",
            " [ 62.54]\n",
            " [ 52.59]\n",
            " [ 51.29]\n",
            " [ 61.98]\n",
            " [ 61.02]\n",
            " [ 60.07]\n",
            " [ 62.38]\n",
            " [ 62.13]\n",
            " [ 55.61]\n",
            " [ 54.5 ]\n",
            " [ 62.9 ]\n",
            " [ 54.49]\n",
            " [ 47.72]\n",
            " [ 65.99]\n",
            " [ 69.14]\n",
            " [ 73.46]\n",
            " [ 70.07]\n",
            " [ 66.02]\n",
            " [ 67.83]\n",
            " [ 72.85]\n",
            " [ 65.97]\n",
            " [ 76.44]\n",
            " [ 82.29]\n",
            " [ 88.48]\n",
            " [ 92.84]\n",
            " [104.41]\n",
            " [ 94.5 ]\n",
            " [ 85.71]\n",
            " [100.28]\n",
            " [ 97.49]\n",
            " [ 92.2 ]\n",
            " [ 64.76]\n",
            " [ 48.65]\n",
            " [ 57.5 ]\n",
            " [ 73.76]\n",
            " [ 73.74]\n",
            " [ 74.02]\n",
            " [ 61.59]\n",
            " [ 60.95]\n",
            " [ 82.7 ]\n",
            " [ 88.14]\n",
            " [113.89]\n",
            " [108.38]\n",
            " [108.21]\n",
            " [114.33]\n",
            " [111.7 ]\n",
            " [136.83]\n",
            " [142.08]\n",
            " [154.57]\n",
            " [172.5 ]\n",
            " [172.55]\n",
            " [163.31]\n",
            " [167.96]\n",
            " [176.52]\n",
            " [168.6 ]\n",
            " [165.74]\n",
            " [137.9 ]\n",
            " [145.92]\n",
            " [151.82]\n",
            " [153.3 ]\n",
            " [145.23]\n",
            " [149.38]\n",
            " [137.67]\n",
            " [172.91]\n",
            " [188.73]\n",
            " [206.39]\n",
            " [221.3 ]\n",
            " [243.44]\n",
            " [272.56]\n",
            " [250.85]\n",
            " [253.52]\n",
            " [234.28]\n",
            " [231.26]\n",
            " [279.1 ]\n",
            " [290.56]\n",
            " [309.82]\n",
            " [326.14]\n",
            " [286.38]\n",
            " [292.37]\n",
            " [361.96]\n",
            " [351.15]\n",
            " [350.  ]\n",
            " [314.35]\n",
            " [306.8 ]\n",
            " [315.05]\n",
            " [354.45]\n",
            " [322.25]\n",
            " [304.9 ]\n",
            " [362.05]\n",
            " [346.2 ]\n",
            " [339.6 ]\n",
            " [367.9 ]\n",
            " [343.4 ]\n",
            " [183.45]\n",
            " [188.05]\n",
            " [169.65]\n",
            " [181.75]\n",
            " [194.3 ]\n",
            " [231.2 ]\n",
            " [275.05]\n",
            " [168.  ]\n",
            " [147.95]\n",
            " [108.7 ]\n",
            " [ 91.3 ]\n",
            " [ 59.5 ]\n",
            " [ 41.45]\n",
            " [ 70.45]\n",
            " [ 68.3 ]\n",
            " [ 46.95]\n",
            " [ 39.2 ]\n",
            " [ 34.55]\n",
            " [ 22.45]\n",
            " [ 27.95]\n",
            " [ 26.85]\n",
            " [ 25.6 ]\n",
            " [ 11.95]\n",
            " [ 14.37]\n",
            " [ 13.15]\n",
            " [ 12.42]\n",
            " [ 14.67]]\n"
          ]
        }
      ]
    },
    {
      "cell_type": "code",
      "source": [
        "# Splitting the dataset into the Training set and Test set\n",
        "x_train, x_test, y_train, y_test = train_test_split(x,y, test_size = 0.2, random_state = 0)"
      ],
      "metadata": {
        "id": "xP9TsEQYfdQd"
      },
      "execution_count": 32,
      "outputs": []
    },
    {
      "cell_type": "code",
      "source": [
        "# Finding the rows and coloumns of train and test data\n",
        "print(x_train.shape)\n",
        "print(x_test.shape)"
      ],
      "metadata": {
        "colab": {
          "base_uri": "https://localhost:8080/"
        },
        "id": "Lr0-sYShfdTt",
        "outputId": "03a6f2b8-a973-452d-9a77-8c84bdd6bb33"
      },
      "execution_count": 33,
      "outputs": [
        {
          "output_type": "stream",
          "name": "stdout",
          "text": [
            "(148, 3)\n",
            "(37, 3)\n"
          ]
        }
      ]
    },
    {
      "cell_type": "code",
      "source": [
        "# Calling the model\n",
        "reg = LinearRegression()"
      ],
      "metadata": {
        "id": "XoAn9DAefdW9"
      },
      "execution_count": 34,
      "outputs": []
    },
    {
      "cell_type": "code",
      "source": [
        "# Fitting Multiple Linear Regression to the Training set\n",
        "reg.fit(x_train,y_train)"
      ],
      "metadata": {
        "colab": {
          "base_uri": "https://localhost:8080/"
        },
        "id": "ym1X5BTBfdad",
        "outputId": "2ae9aae4-a4e0-4bb3-cfca-7de26f627143"
      },
      "execution_count": 35,
      "outputs": [
        {
          "output_type": "execute_result",
          "data": {
            "text/plain": [
              "LinearRegression()"
            ]
          },
          "metadata": {},
          "execution_count": 35
        }
      ]
    },
    {
      "cell_type": "code",
      "source": [
        "x_train"
      ],
      "metadata": {
        "colab": {
          "base_uri": "https://localhost:8080/"
        },
        "id": "BUw59LbXfdia",
        "outputId": "66135f11-489d-4b78-e32f-9e18ef80d357"
      },
      "execution_count": 36,
      "outputs": [
        {
          "output_type": "execute_result",
          "data": {
            "text/plain": [
              "array([[155.  , 142.08, 134.  ],\n",
              "       [ 20.95,  16.2 ,  16.02],\n",
              "       [100.4 ,  92.4 ,  57.71],\n",
              "       [ 72.55,  59.5 ,  40.95],\n",
              "       [ 17.51,  10.04,   9.94],\n",
              "       [ 78.94,  49.2 ,  44.8 ],\n",
              "       [ 52.06,  47.8 ,  47.3 ],\n",
              "       [ 41.04,  35.98,  35.02],\n",
              "       [ 55.56,  49.99,  30.24],\n",
              "       [ 28.3 ,  25.6 ,  11.1 ],\n",
              "       [100.15,  94.  ,  83.42],\n",
              "       [ 15.34,  14.3 ,  12.75],\n",
              "       [ 40.7 ,  39.1 ,  33.6 ],\n",
              "       [ 32.6 ,  30.2 ,  26.8 ],\n",
              "       [330.58, 309.6 , 300.2 ],\n",
              "       [ 77.88,  69.  ,  66.2 ],\n",
              "       [366.  , 314.  , 307.35],\n",
              "       [ 28.47,  22.8 ,  21.4 ],\n",
              "       [ 52.34,  41.2 ,  36.8 ],\n",
              "       [ 60.08,  56.  ,  51.2 ],\n",
              "       [366.5 , 355.  , 304.65],\n",
              "       [ 17.8 ,  14.79,  11.25],\n",
              "       [117.6 ,  88.8 ,  86.98],\n",
              "       [ 36.14,  30.66,  29.11],\n",
              "       [118.69, 107.4 , 103.31],\n",
              "       [ 92.4 ,  89.2 ,  53.15],\n",
              "       [364.4 , 362.85, 325.7 ],\n",
              "       [ 70.6 ,  65.45,  62.14],\n",
              "       [109.43, 100.99,  97.2 ],\n",
              "       [155.5 , 135.61, 127.  ],\n",
              "       [ 47.3 ,  41.8 ,  33.6 ],\n",
              "       [ 95.  ,  89.2 ,  88.01],\n",
              "       [117.57, 114.8 , 101.62],\n",
              "       [149.9 , 145.  , 126.45],\n",
              "       [ 17.16,  12.  ,  11.85],\n",
              "       [101.8 ,  85.7 ,  83.43],\n",
              "       [ 71.74,  62.8 ,  62.51],\n",
              "       [ 14.87,  13.48,  12.27],\n",
              "       [ 59.9 ,  56.7 ,  52.6 ],\n",
              "       [ 83.  ,  74.4 ,  71.63],\n",
              "       [190.44, 172.02, 165.33],\n",
              "       [ 12.5 ,  12.19,   9.9 ],\n",
              "       [ 21.8 ,  19.8 ,  15.8 ],\n",
              "       [107.  ,  93.2 ,  93.2 ],\n",
              "       [ 63.96,  62.9 ,  50.51],\n",
              "       [ 31.6 ,  27.8 ,  25.2 ],\n",
              "       [153.8 , 147.95,  98.75],\n",
              "       [176.96, 170.  , 157.8 ],\n",
              "       [137.8 , 112.1 , 109.2 ],\n",
              "       [ 67.81,  66.  ,  43.22],\n",
              "       [383.25, 351.  , 345.5 ],\n",
              "       [ 30.45,  22.3 ,  20.3 ],\n",
              "       [ 41.3 ,  33.8 ,  32.  ],\n",
              "       [155.94, 146.96, 141.73],\n",
              "       [102.94,  99.  ,  87.15],\n",
              "       [ 77.6 ,  72.2 ,  58.  ],\n",
              "       [209.  , 189.8 , 181.28],\n",
              "       [ 16.56,  12.4 ,  11.13],\n",
              "       [ 68.26,  62.  ,  60.5 ],\n",
              "       [ 35.18,  31.98,  29.  ],\n",
              "       [ 33.16,  29.7 ,  24.83],\n",
              "       [ 74.78,  73.  ,  65.27],\n",
              "       [ 18.6 ,  15.9 ,  15.7 ],\n",
              "       [294.19, 280.4 , 275.61],\n",
              "       [ 36.38,  33.89,  30.4 ],\n",
              "       [ 14.9 ,  12.41,  12.21],\n",
              "       [169.19, 165.9 , 118.  ],\n",
              "       [ 31.58,  29.3 ,  23.31],\n",
              "       [ 24.2 ,  18.78,  18.5 ],\n",
              "       [ 66.5 ,  47.92,  46.11],\n",
              "       [ 83.36,  60.52,  60.34],\n",
              "       [ 54.98,  46.58,  42.84],\n",
              "       [ 77.27,  74.  ,  64.65],\n",
              "       [ 63.7 ,  62.2 ,  52.04],\n",
              "       [ 14.47,  13.2 ,  12.4 ],\n",
              "       [ 14.01,  13.3 ,  12.11],\n",
              "       [194.3 , 174.  , 160.2 ],\n",
              "       [ 17.16,  13.68,  13.58],\n",
              "       [ 65.2 ,  51.84,  50.8 ],\n",
              "       [ 64.8 ,  53.8 ,  48.1 ],\n",
              "       [ 73.19,  68.15,  67.57],\n",
              "       [262.72, 255.  , 219.1 ],\n",
              "       [ 17.2 ,  16.  ,  13.82],\n",
              "       [306.34, 286.66, 280.21],\n",
              "       [350.  , 347.2 , 166.15],\n",
              "       [ 18.88,  18.  ,  16.8 ],\n",
              "       [ 14.  ,  13.  ,  11.25],\n",
              "       [107.8 , 104.41,  93.4 ],\n",
              "       [268.45, 180.  , 168.6 ],\n",
              "       [ 28.84,  15.94,  14.76],\n",
              "       [ 18.4 ,  18.2 ,  13.4 ],\n",
              "       [179.4 , 177.  , 158.9 ],\n",
              "       [ 76.35,  74.74,  60.8 ],\n",
              "       [ 32.22,  31.22,  22.62],\n",
              "       [ 59.48,  50.67,  48.8 ],\n",
              "       [ 68.36,  61.8 ,  55.44],\n",
              "       [ 14.88,  12.58,  12.55],\n",
              "       [175.58, 169.  , 156.45],\n",
              "       [319.  , 307.2 , 300.65],\n",
              "       [ 18.34,  15.28,  11.48],\n",
              "       [ 94.98,  83.45,  80.8 ],\n",
              "       [247.18, 221.96, 221.35],\n",
              "       [231.4 , 192.  , 147.  ],\n",
              "       [ 29.66,  25.4 ,  24.4 ],\n",
              "       [ 29.8 ,  26.68,  21.7 ],\n",
              "       [275.  , 244.  , 240.68],\n",
              "       [ 55.67,  50.98,  48.6 ],\n",
              "       [368.52, 363.  , 337.37],\n",
              "       [175.12, 138.8 , 138.35],\n",
              "       [ 36.88,  34.3 ,  30.03],\n",
              "       [ 50.98,  44.4 ,  40.02],\n",
              "       [179.  , 154.4 , 150.47],\n",
              "       [ 53.97,  50.88,  44.4 ],\n",
              "       [368.75, 305.  , 303.3 ],\n",
              "       [157.85, 150.4 , 132.74],\n",
              "       [236.9 , 197.  , 167.65],\n",
              "       [ 48.9 ,  48.9 ,  24.11],\n",
              "       [330.3 , 326.  , 275.15],\n",
              "       [393.35, 340.  , 332.45],\n",
              "       [375.75, 354.6 , 299.  ],\n",
              "       [ 54.  ,  46.4 ,  45.  ],\n",
              "       [ 76.44,  58.  ,  56.08],\n",
              "       [ 70.59,  70.4 ,  58.85],\n",
              "       [ 74.8 ,  65.9 ,  63.6 ],\n",
              "       [173.88, 172.5 , 156.1 ],\n",
              "       [329.8 , 315.5 , 296.  ],\n",
              "       [ 31.95,  27.75,  25.55],\n",
              "       [ 68.  ,  63.  ,  61.36],\n",
              "       [ 59.8 ,  57.  ,  47.4 ],\n",
              "       [ 39.  ,  37.5 ,  30.2 ],\n",
              "       [285.9 , 277.  , 165.3 ],\n",
              "       [ 76.1 ,  73.62,  69.11],\n",
              "       [ 48.5 ,  46.9 ,  36.55],\n",
              "       [ 87.95,  35.2 ,   5.55],\n",
              "       [ 25.  ,  24.6 ,  11.01],\n",
              "       [ 58.08,  56.94,  50.66],\n",
              "       [311.57, 290.6 , 283.6 ],\n",
              "       [ 89.6 ,  82.54,  82.22],\n",
              "       [ 61.68,  61.26,  54.5 ],\n",
              "       [ 84.2 ,  76.4 ,  75.6 ],\n",
              "       [ 30.5 ,  22.85,  20.4 ],\n",
              "       [ 31.99,  27.  ,  26.2 ],\n",
              "       [ 20.8 ,  20.56,  18.02],\n",
              "       [ 62.7 ,  61.54,  58.42],\n",
              "       [ 57.69,  53.  ,  46.71],\n",
              "       [172.8 , 162.8 , 154.53],\n",
              "       [ 31.08,  25.6 ,  23.  ],\n",
              "       [ 75.35,  71.  ,  59.95]])"
            ]
          },
          "metadata": {},
          "execution_count": 36
        }
      ]
    },
    {
      "cell_type": "code",
      "source": [
        "x_test"
      ],
      "metadata": {
        "colab": {
          "base_uri": "https://localhost:8080/"
        },
        "id": "AisniKt7gACy",
        "outputId": "176dd85e-fe38-426b-8ba8-65ee96a4f284"
      },
      "execution_count": 37,
      "outputs": [
        {
          "output_type": "execute_result",
          "data": {
            "text/plain": [
              "array([[ 35.8 ,  33.9 ,  28.51],\n",
              "       [154.52, 153.  , 133.71],\n",
              "       [ 70.5 ,  70.  ,  40.7 ],\n",
              "       [143.91, 137.1 , 132.44],\n",
              "       [ 68.88,  59.4 ,  59.01],\n",
              "       [ 34.16,  27.4 ,  27.  ],\n",
              "       [245.  , 235.4 , 218.25],\n",
              "       [ 16.97,  15.5 ,  15.4 ],\n",
              "       [ 14.44,  13.49,  13.  ],\n",
              "       [236.3 , 182.85, 181.15],\n",
              "       [325.8 , 320.7 , 285.1 ],\n",
              "       [110.6 , 109.6 ,  81.75],\n",
              "       [157.96, 151.73, 144.03],\n",
              "       [ 63.39,  60.4 ,  54.8 ],\n",
              "       [350.1 , 348.  , 327.35],\n",
              "       [281.3 , 234.6 , 228.8 ],\n",
              "       [ 76.  ,  70.9 ,  68.21],\n",
              "       [ 28.98,  25.  ,  24.62],\n",
              "       [284.31, 231.98, 226.3 ],\n",
              "       [ 57.58,  53.6 ,  46.42],\n",
              "       [ 11.24,  10.  ,   8.16],\n",
              "       [126.85, 114.6 , 107.18],\n",
              "       [178.05, 163.3 , 133.05],\n",
              "       [ 60.94,  53.55,  53.02],\n",
              "       [223.  , 206.4 , 201.14],\n",
              "       [ 76.65,  42.  ,  29.05],\n",
              "       [290.  , 273.3 , 231.2 ],\n",
              "       [ 13.88,  13.35,  12.88],\n",
              "       [114.46, 108.43, 100.44],\n",
              "       [ 63.54,  62.98,  49.39],\n",
              "       [404.  , 369.95, 338.  ],\n",
              "       [372.  , 293.04, 290.78],\n",
              "       [ 77.69,  66.2 ,  64.46],\n",
              "       [182.  , 174.8 , 156.8 ],\n",
              "       [ 41.75,  37.4 ,  35.3 ],\n",
              "       [ 51.48,  49.  ,  44.6 ],\n",
              "       [265.5 , 253.41, 245.8 ]])"
            ]
          },
          "metadata": {},
          "execution_count": 37
        }
      ]
    },
    {
      "cell_type": "code",
      "source": [
        "y_train"
      ],
      "metadata": {
        "colab": {
          "base_uri": "https://localhost:8080/"
        },
        "id": "rt3ZoZa9gAN-",
        "outputId": "22272480-d7a1-432a-8d78-78a6fb96b26e"
      },
      "execution_count": 38,
      "outputs": [
        {
          "output_type": "execute_result",
          "data": {
            "text/plain": [
              "array([[154.57],\n",
              "       [ 20.08],\n",
              "       [ 64.76],\n",
              "       [ 41.45],\n",
              "       [ 15.45],\n",
              "       [ 57.5 ],\n",
              "       [ 50.97],\n",
              "       [ 37.93],\n",
              "       [ 50.54],\n",
              "       [ 11.95],\n",
              "       [ 85.71],\n",
              "       [ 13.15],\n",
              "       [ 34.55],\n",
              "       [ 28.63],\n",
              "       [326.14],\n",
              "       [ 73.46],\n",
              "       [354.45],\n",
              "       [ 25.32],\n",
              "       [ 47.31],\n",
              "       [ 54.5 ],\n",
              "       [322.25],\n",
              "       [ 12.26],\n",
              "       [113.89],\n",
              "       [ 33.51],\n",
              "       [114.33],\n",
              "       [ 59.5 ],\n",
              "       [346.2 ],\n",
              "       [ 67.83],\n",
              "       [ 97.49],\n",
              "       [145.92],\n",
              "       [ 43.48],\n",
              "       [ 92.84],\n",
              "       [108.38],\n",
              "       [149.38],\n",
              "       [ 14.37],\n",
              "       [100.28],\n",
              "       [ 70.3 ],\n",
              "       [ 13.3 ],\n",
              "       [ 53.83],\n",
              "       [ 74.02],\n",
              "       [188.73],\n",
              "       [ 10.26],\n",
              "       [ 18.03],\n",
              "       [104.41],\n",
              "       [ 55.61],\n",
              "       [ 26.85],\n",
              "       [108.7 ],\n",
              "       [176.52],\n",
              "       [136.83],\n",
              "       [ 48.65],\n",
              "       [350.  ],\n",
              "       [ 27.95],\n",
              "       [ 40.99],\n",
              "       [151.82],\n",
              "       [ 92.2 ],\n",
              "       [ 61.21],\n",
              "       [206.39],\n",
              "       [ 15.03],\n",
              "       [ 61.02],\n",
              "       [ 33.45],\n",
              "       [ 31.93],\n",
              "       [ 65.97],\n",
              "       [ 17.84],\n",
              "       [290.56],\n",
              "       [ 35.98],\n",
              "       [ 14.67],\n",
              "       [137.9 ],\n",
              "       [ 28.14],\n",
              "       [ 22.78],\n",
              "       [ 65.99],\n",
              "       [ 82.7 ],\n",
              "       [ 50.57],\n",
              "       [ 73.74],\n",
              "       [ 54.49],\n",
              "       [ 12.99],\n",
              "       [ 12.42],\n",
              "       [181.75],\n",
              "       [ 15.33],\n",
              "       [ 61.98],\n",
              "       [ 62.9 ],\n",
              "       [ 72.85],\n",
              "       [234.28],\n",
              "       [ 16.16],\n",
              "       [292.37],\n",
              "       [183.45],\n",
              "       [ 18.46],\n",
              "       [ 12.46],\n",
              "       [ 94.5 ],\n",
              "       [188.05],\n",
              "       [ 25.12],\n",
              "       [ 15.62],\n",
              "       [168.6 ],\n",
              "       [ 61.59],\n",
              "       [ 22.85],\n",
              "       [ 57.1 ],\n",
              "       [ 62.54],\n",
              "       [ 13.42],\n",
              "       [165.74],\n",
              "       [315.05],\n",
              "       [ 12.24],\n",
              "       [ 88.14],\n",
              "       [243.44],\n",
              "       [169.65],\n",
              "       [ 26.97],\n",
              "       [ 24.13],\n",
              "       [272.56],\n",
              "       [ 53.41],\n",
              "       [351.15],\n",
              "       [172.91],\n",
              "       [ 31.13],\n",
              "       [ 46.18],\n",
              "       [172.5 ],\n",
              "       [ 49.42],\n",
              "       [362.05],\n",
              "       [137.67],\n",
              "       [231.2 ],\n",
              "       [ 33.75],\n",
              "       [286.38],\n",
              "       [367.9 ],\n",
              "       [314.35],\n",
              "       [ 49.81],\n",
              "       [ 73.76],\n",
              "       [ 66.02],\n",
              "       [ 69.14],\n",
              "       [172.55],\n",
              "       [306.8 ],\n",
              "       [ 25.6 ],\n",
              "       [ 62.13],\n",
              "       [ 47.72],\n",
              "       [ 36.99],\n",
              "       [168.  ],\n",
              "       [ 70.07],\n",
              "       [ 39.2 ],\n",
              "       [ 22.45],\n",
              "       [ 13.58],\n",
              "       [ 57.57],\n",
              "       [309.82],\n",
              "       [ 88.48],\n",
              "       [ 60.07],\n",
              "       [ 82.29],\n",
              "       [ 25.45],\n",
              "       [ 30.31],\n",
              "       [ 19.49],\n",
              "       [ 60.95],\n",
              "       [ 51.29],\n",
              "       [167.96],\n",
              "       [ 29.68],\n",
              "       [ 68.3 ]])"
            ]
          },
          "metadata": {},
          "execution_count": 38
        }
      ]
    },
    {
      "cell_type": "code",
      "source": [
        "# Actual close price on test data\n",
        "y_test"
      ],
      "metadata": {
        "colab": {
          "base_uri": "https://localhost:8080/"
        },
        "id": "kswjCT6ogASv",
        "outputId": "afb77916-5591-4611-fa5f-a52c6cb5914d"
      },
      "execution_count": 57,
      "outputs": [
        {
          "output_type": "execute_result",
          "data": {
            "text/plain": [
              "array([[ 34.06],\n",
              "       [145.23],\n",
              "       [ 46.95],\n",
              "       [142.08],\n",
              "       [ 62.22],\n",
              "       [ 30.16],\n",
              "       [231.26],\n",
              "       [ 16.12],\n",
              "       [ 13.71],\n",
              "       [194.3 ],\n",
              "       [304.9 ],\n",
              "       [ 91.3 ],\n",
              "       [153.3 ],\n",
              "       [ 62.38],\n",
              "       [339.6 ],\n",
              "       [275.05],\n",
              "       [ 71.86],\n",
              "       [ 26.83],\n",
              "       [279.1 ],\n",
              "       [ 49.84],\n",
              "       [  9.98],\n",
              "       [111.7 ],\n",
              "       [147.95],\n",
              "       [ 58.99],\n",
              "       [221.3 ],\n",
              "       [ 70.45],\n",
              "       [250.85],\n",
              "       [ 13.41],\n",
              "       [108.21],\n",
              "       [ 52.59],\n",
              "       [343.4 ],\n",
              "       [361.96],\n",
              "       [ 76.44],\n",
              "       [163.31],\n",
              "       [ 41.36],\n",
              "       [ 47.32],\n",
              "       [253.52]])"
            ]
          },
          "metadata": {},
          "execution_count": 57
        }
      ]
    },
    {
      "cell_type": "code",
      "source": [
        "# Finding the intercept of the model\n",
        "reg.intercept_"
      ],
      "metadata": {
        "colab": {
          "base_uri": "https://localhost:8080/"
        },
        "id": "P1ys6_6UgAaA",
        "outputId": "4480d335-e580-41d4-fc92-77c9b63240d4"
      },
      "execution_count": 40,
      "outputs": [
        {
          "output_type": "execute_result",
          "data": {
            "text/plain": [
              "array([1.44956834])"
            ]
          },
          "metadata": {},
          "execution_count": 40
        }
      ]
    },
    {
      "cell_type": "code",
      "source": [
        "# Finding the coefficient of the model\n",
        "reg.coef_"
      ],
      "metadata": {
        "colab": {
          "base_uri": "https://localhost:8080/"
        },
        "id": "q5Iviot0gAeJ",
        "outputId": "f7588f41-8777-44fd-823e-0f1f85ad7ef7"
      },
      "execution_count": 41,
      "outputs": [
        {
          "output_type": "execute_result",
          "data": {
            "text/plain": [
              "array([[ 0.46406454, -0.4404148 ,  1.0142898 ]])"
            ]
          },
          "metadata": {},
          "execution_count": 41
        }
      ]
    },
    {
      "cell_type": "code",
      "source": [
        "# Predicting close price of train data \n",
        "y_pred_train = reg.predict(x_train)"
      ],
      "metadata": {
        "id": "VGY26fvrgAhj"
      },
      "execution_count": 42,
      "outputs": []
    },
    {
      "cell_type": "code",
      "source": [
        "#Predicted close price on the test data\n",
        "y_pred_test = reg.predict(x_test)"
      ],
      "metadata": {
        "id": "oh6aRMs8gAlT"
      },
      "execution_count": 43,
      "outputs": []
    },
    {
      "cell_type": "code",
      "source": [
        "#Predicted Close price on the test data\n",
        "y_pred_test"
      ],
      "metadata": {
        "colab": {
          "base_uri": "https://localhost:8080/"
        },
        "id": "CUVd8od3gAsj",
        "outputId": "8537ff5d-090e-491a-d97d-87593f587541"
      },
      "execution_count": 44,
      "outputs": [
        {
          "output_type": "execute_result",
          "data": {
            "text/plain": [
              "array([[ 32.05041945],\n",
              "       [141.39404628],\n",
              "       [ 44.6186774 ],\n",
              "       [142.1847688 ],\n",
              "       [ 67.10693606],\n",
              "       [ 32.62047222],\n",
              "       [232.84048635],\n",
              "       [ 18.11837716],\n",
              "       [ 15.39523209],\n",
              "       [214.31677099],\n",
              "       [300.57479208],\n",
              "       [ 87.42383581],\n",
              "       [154.01722588],\n",
              "       [ 59.84864685],\n",
              "       [342.68198056],\n",
              "       [260.7391185 ],\n",
              "       [ 74.67777157],\n",
              "       [ 28.85960368],\n",
              "       [260.75411505],\n",
              "       [ 51.64750396],\n",
              "       [ 10.53811057],\n",
              "       [118.55620032],\n",
              "       [147.10778122],\n",
              "       [ 59.92309426],\n",
              "       [218.04859715],\n",
              "       [ 47.9878126 ],\n",
              "       [250.16672269],\n",
              "       [ 15.07529924],\n",
              "       [108.6874867 ],\n",
              "       [ 53.2946785 ],\n",
              "       [368.83014088],\n",
              "       [339.95761347],\n",
              "       [ 73.72840345],\n",
              "       [167.96544878],\n",
              "       [ 40.15717944],\n",
              "       [ 48.9966109 ],\n",
              "       [262.36562296]])"
            ]
          },
          "metadata": {},
          "execution_count": 44
        }
      ]
    },
    {
      "cell_type": "markdown",
      "source": [
        "# Train dataset performance"
      ],
      "metadata": {
        "id": "lqTayf6jgh7r"
      }
    },
    {
      "cell_type": "code",
      "source": [
        "# Calculating the errors of train data\n",
        "print('Mean Absolute Error:',metrics.mean_absolute_error(y_train,y_pred_train))\n",
        "print('Mean Squared error:',metrics.mean_squared_error(y_train, y_pred_train))\n",
        "print('Root Mean Squared error:',np.sqrt(metrics.mean_squared_error(y_train, y_pred_train)))"
      ],
      "metadata": {
        "colab": {
          "base_uri": "https://localhost:8080/"
        },
        "id": "1REPKqlKgAxU",
        "outputId": "441312c4-f192-485d-d94b-0336ab699691"
      },
      "execution_count": 45,
      "outputs": [
        {
          "output_type": "stream",
          "name": "stdout",
          "text": [
            "Mean Absolute Error: 3.967317950568311\n",
            "Mean Squared error: 41.07000603866699\n",
            "Root Mean Squared error: 6.408588459143479\n"
          ]
        }
      ]
    },
    {
      "cell_type": "code",
      "source": [
        "# Finding the accuracy of train data\n",
        "r2_score(y_train, y_pred_train)"
      ],
      "metadata": {
        "colab": {
          "base_uri": "https://localhost:8080/"
        },
        "id": "SA5g7GTQ56_o",
        "outputId": "b1ce8ea5-05b8-4659-d4f8-71dcd982bdfd"
      },
      "execution_count": 58,
      "outputs": [
        {
          "output_type": "execute_result",
          "data": {
            "text/plain": [
              "0.9954546486753905"
            ]
          },
          "metadata": {},
          "execution_count": 58
        }
      ]
    },
    {
      "cell_type": "markdown",
      "source": [
        "# Test dataset performance"
      ],
      "metadata": {
        "id": "hRpffmQ4gqTc"
      }
    },
    {
      "cell_type": "code",
      "source": [
        "# Calculating the errors of test data\n",
        "print('Mean Absolute Error:',metrics.mean_absolute_error(y_test,y_pred_test))\n",
        "print('Mean Squared error:',metrics.mean_squared_error(y_test, y_pred_test))\n",
        "print('Root Mean Squared error:',np.sqrt(metrics.mean_squared_error(y_test, y_pred_test)))"
      ],
      "metadata": {
        "colab": {
          "base_uri": "https://localhost:8080/"
        },
        "id": "ZzloPALigjTx",
        "outputId": "915dda80-1096-42cd-ee2a-0e3e50a9e259"
      },
      "execution_count": 46,
      "outputs": [
        {
          "output_type": "stream",
          "name": "stdout",
          "text": [
            "Mean Absolute Error: 5.397623269661969\n",
            "Mean Squared error: 77.87298624685229\n",
            "Root Mean Squared error: 8.824567198840535\n"
          ]
        }
      ]
    },
    {
      "cell_type": "code",
      "source": [
        "# Finding the accuracy of train data\n",
        "r2_score(y_train, y_pred_train)"
      ],
      "metadata": {
        "colab": {
          "base_uri": "https://localhost:8080/"
        },
        "id": "WJaYYEjjgjbA",
        "outputId": "0a10f462-6e5d-41d5-afc8-a30b9e32637f"
      },
      "execution_count": 47,
      "outputs": [
        {
          "output_type": "execute_result",
          "data": {
            "text/plain": [
              "0.9954546486753905"
            ]
          },
          "metadata": {},
          "execution_count": 47
        }
      ]
    },
    {
      "cell_type": "code",
      "source": [
        "# Finding the accuracy of test data\n",
        "r2_score(y_test, y_pred_test)"
      ],
      "metadata": {
        "colab": {
          "base_uri": "https://localhost:8080/"
        },
        "id": "yC6HPQixgjeX",
        "outputId": "96fb79fd-6d47-4abb-9cd0-e12d38bb9760"
      },
      "execution_count": 48,
      "outputs": [
        {
          "output_type": "execute_result",
          "data": {
            "text/plain": [
              "0.9930815866308079"
            ]
          },
          "metadata": {},
          "execution_count": 48
        }
      ]
    },
    {
      "cell_type": "code",
      "source": [
        "# Comparing the actual and predicted colse price of the stock\n",
        "df1 = pd.DataFrame({'Actual': y_test.flatten(), 'Predicted': y_pred_test.flatten()})\n",
        "df1"
      ],
      "metadata": {
        "colab": {
          "base_uri": "https://localhost:8080/",
          "height": 1000
        },
        "id": "IDR7Bo-ngjjW",
        "outputId": "89d1d058-b9de-4fbe-c020-87e75026fea7"
      },
      "execution_count": 49,
      "outputs": [
        {
          "output_type": "execute_result",
          "data": {
            "text/plain": [
              "    Actual   Predicted\n",
              "0    34.06   32.050419\n",
              "1   145.23  141.394046\n",
              "2    46.95   44.618677\n",
              "3   142.08  142.184769\n",
              "4    62.22   67.106936\n",
              "5    30.16   32.620472\n",
              "6   231.26  232.840486\n",
              "7    16.12   18.118377\n",
              "8    13.71   15.395232\n",
              "9   194.30  214.316771\n",
              "10  304.90  300.574792\n",
              "11   91.30   87.423836\n",
              "12  153.30  154.017226\n",
              "13   62.38   59.848647\n",
              "14  339.60  342.681981\n",
              "15  275.05  260.739119\n",
              "16   71.86   74.677772\n",
              "17   26.83   28.859604\n",
              "18  279.10  260.754115\n",
              "19   49.84   51.647504\n",
              "20    9.98   10.538111\n",
              "21  111.70  118.556200\n",
              "22  147.95  147.107781\n",
              "23   58.99   59.923094\n",
              "24  221.30  218.048597\n",
              "25   70.45   47.987813\n",
              "26  250.85  250.166723\n",
              "27   13.41   15.075299\n",
              "28  108.21  108.687487\n",
              "29   52.59   53.294678\n",
              "30  343.40  368.830141\n",
              "31  361.96  339.957613\n",
              "32   76.44   73.728403\n",
              "33  163.31  167.965449\n",
              "34   41.36   40.157179\n",
              "35   47.32   48.996611\n",
              "36  253.52  262.365623"
            ],
            "text/html": [
              "\n",
              "  <div id=\"df-d1c3a000-b19d-41de-be3e-3864b113d167\">\n",
              "    <div class=\"colab-df-container\">\n",
              "      <div>\n",
              "<style scoped>\n",
              "    .dataframe tbody tr th:only-of-type {\n",
              "        vertical-align: middle;\n",
              "    }\n",
              "\n",
              "    .dataframe tbody tr th {\n",
              "        vertical-align: top;\n",
              "    }\n",
              "\n",
              "    .dataframe thead th {\n",
              "        text-align: right;\n",
              "    }\n",
              "</style>\n",
              "<table border=\"1\" class=\"dataframe\">\n",
              "  <thead>\n",
              "    <tr style=\"text-align: right;\">\n",
              "      <th></th>\n",
              "      <th>Actual</th>\n",
              "      <th>Predicted</th>\n",
              "    </tr>\n",
              "  </thead>\n",
              "  <tbody>\n",
              "    <tr>\n",
              "      <th>0</th>\n",
              "      <td>34.06</td>\n",
              "      <td>32.050419</td>\n",
              "    </tr>\n",
              "    <tr>\n",
              "      <th>1</th>\n",
              "      <td>145.23</td>\n",
              "      <td>141.394046</td>\n",
              "    </tr>\n",
              "    <tr>\n",
              "      <th>2</th>\n",
              "      <td>46.95</td>\n",
              "      <td>44.618677</td>\n",
              "    </tr>\n",
              "    <tr>\n",
              "      <th>3</th>\n",
              "      <td>142.08</td>\n",
              "      <td>142.184769</td>\n",
              "    </tr>\n",
              "    <tr>\n",
              "      <th>4</th>\n",
              "      <td>62.22</td>\n",
              "      <td>67.106936</td>\n",
              "    </tr>\n",
              "    <tr>\n",
              "      <th>5</th>\n",
              "      <td>30.16</td>\n",
              "      <td>32.620472</td>\n",
              "    </tr>\n",
              "    <tr>\n",
              "      <th>6</th>\n",
              "      <td>231.26</td>\n",
              "      <td>232.840486</td>\n",
              "    </tr>\n",
              "    <tr>\n",
              "      <th>7</th>\n",
              "      <td>16.12</td>\n",
              "      <td>18.118377</td>\n",
              "    </tr>\n",
              "    <tr>\n",
              "      <th>8</th>\n",
              "      <td>13.71</td>\n",
              "      <td>15.395232</td>\n",
              "    </tr>\n",
              "    <tr>\n",
              "      <th>9</th>\n",
              "      <td>194.30</td>\n",
              "      <td>214.316771</td>\n",
              "    </tr>\n",
              "    <tr>\n",
              "      <th>10</th>\n",
              "      <td>304.90</td>\n",
              "      <td>300.574792</td>\n",
              "    </tr>\n",
              "    <tr>\n",
              "      <th>11</th>\n",
              "      <td>91.30</td>\n",
              "      <td>87.423836</td>\n",
              "    </tr>\n",
              "    <tr>\n",
              "      <th>12</th>\n",
              "      <td>153.30</td>\n",
              "      <td>154.017226</td>\n",
              "    </tr>\n",
              "    <tr>\n",
              "      <th>13</th>\n",
              "      <td>62.38</td>\n",
              "      <td>59.848647</td>\n",
              "    </tr>\n",
              "    <tr>\n",
              "      <th>14</th>\n",
              "      <td>339.60</td>\n",
              "      <td>342.681981</td>\n",
              "    </tr>\n",
              "    <tr>\n",
              "      <th>15</th>\n",
              "      <td>275.05</td>\n",
              "      <td>260.739119</td>\n",
              "    </tr>\n",
              "    <tr>\n",
              "      <th>16</th>\n",
              "      <td>71.86</td>\n",
              "      <td>74.677772</td>\n",
              "    </tr>\n",
              "    <tr>\n",
              "      <th>17</th>\n",
              "      <td>26.83</td>\n",
              "      <td>28.859604</td>\n",
              "    </tr>\n",
              "    <tr>\n",
              "      <th>18</th>\n",
              "      <td>279.10</td>\n",
              "      <td>260.754115</td>\n",
              "    </tr>\n",
              "    <tr>\n",
              "      <th>19</th>\n",
              "      <td>49.84</td>\n",
              "      <td>51.647504</td>\n",
              "    </tr>\n",
              "    <tr>\n",
              "      <th>20</th>\n",
              "      <td>9.98</td>\n",
              "      <td>10.538111</td>\n",
              "    </tr>\n",
              "    <tr>\n",
              "      <th>21</th>\n",
              "      <td>111.70</td>\n",
              "      <td>118.556200</td>\n",
              "    </tr>\n",
              "    <tr>\n",
              "      <th>22</th>\n",
              "      <td>147.95</td>\n",
              "      <td>147.107781</td>\n",
              "    </tr>\n",
              "    <tr>\n",
              "      <th>23</th>\n",
              "      <td>58.99</td>\n",
              "      <td>59.923094</td>\n",
              "    </tr>\n",
              "    <tr>\n",
              "      <th>24</th>\n",
              "      <td>221.30</td>\n",
              "      <td>218.048597</td>\n",
              "    </tr>\n",
              "    <tr>\n",
              "      <th>25</th>\n",
              "      <td>70.45</td>\n",
              "      <td>47.987813</td>\n",
              "    </tr>\n",
              "    <tr>\n",
              "      <th>26</th>\n",
              "      <td>250.85</td>\n",
              "      <td>250.166723</td>\n",
              "    </tr>\n",
              "    <tr>\n",
              "      <th>27</th>\n",
              "      <td>13.41</td>\n",
              "      <td>15.075299</td>\n",
              "    </tr>\n",
              "    <tr>\n",
              "      <th>28</th>\n",
              "      <td>108.21</td>\n",
              "      <td>108.687487</td>\n",
              "    </tr>\n",
              "    <tr>\n",
              "      <th>29</th>\n",
              "      <td>52.59</td>\n",
              "      <td>53.294678</td>\n",
              "    </tr>\n",
              "    <tr>\n",
              "      <th>30</th>\n",
              "      <td>343.40</td>\n",
              "      <td>368.830141</td>\n",
              "    </tr>\n",
              "    <tr>\n",
              "      <th>31</th>\n",
              "      <td>361.96</td>\n",
              "      <td>339.957613</td>\n",
              "    </tr>\n",
              "    <tr>\n",
              "      <th>32</th>\n",
              "      <td>76.44</td>\n",
              "      <td>73.728403</td>\n",
              "    </tr>\n",
              "    <tr>\n",
              "      <th>33</th>\n",
              "      <td>163.31</td>\n",
              "      <td>167.965449</td>\n",
              "    </tr>\n",
              "    <tr>\n",
              "      <th>34</th>\n",
              "      <td>41.36</td>\n",
              "      <td>40.157179</td>\n",
              "    </tr>\n",
              "    <tr>\n",
              "      <th>35</th>\n",
              "      <td>47.32</td>\n",
              "      <td>48.996611</td>\n",
              "    </tr>\n",
              "    <tr>\n",
              "      <th>36</th>\n",
              "      <td>253.52</td>\n",
              "      <td>262.365623</td>\n",
              "    </tr>\n",
              "  </tbody>\n",
              "</table>\n",
              "</div>\n",
              "      <button class=\"colab-df-convert\" onclick=\"convertToInteractive('df-d1c3a000-b19d-41de-be3e-3864b113d167')\"\n",
              "              title=\"Convert this dataframe to an interactive table.\"\n",
              "              style=\"display:none;\">\n",
              "        \n",
              "  <svg xmlns=\"http://www.w3.org/2000/svg\" height=\"24px\"viewBox=\"0 0 24 24\"\n",
              "       width=\"24px\">\n",
              "    <path d=\"M0 0h24v24H0V0z\" fill=\"none\"/>\n",
              "    <path d=\"M18.56 5.44l.94 2.06.94-2.06 2.06-.94-2.06-.94-.94-2.06-.94 2.06-2.06.94zm-11 1L8.5 8.5l.94-2.06 2.06-.94-2.06-.94L8.5 2.5l-.94 2.06-2.06.94zm10 10l.94 2.06.94-2.06 2.06-.94-2.06-.94-.94-2.06-.94 2.06-2.06.94z\"/><path d=\"M17.41 7.96l-1.37-1.37c-.4-.4-.92-.59-1.43-.59-.52 0-1.04.2-1.43.59L10.3 9.45l-7.72 7.72c-.78.78-.78 2.05 0 2.83L4 21.41c.39.39.9.59 1.41.59.51 0 1.02-.2 1.41-.59l7.78-7.78 2.81-2.81c.8-.78.8-2.07 0-2.86zM5.41 20L4 18.59l7.72-7.72 1.47 1.35L5.41 20z\"/>\n",
              "  </svg>\n",
              "      </button>\n",
              "      \n",
              "  <style>\n",
              "    .colab-df-container {\n",
              "      display:flex;\n",
              "      flex-wrap:wrap;\n",
              "      gap: 12px;\n",
              "    }\n",
              "\n",
              "    .colab-df-convert {\n",
              "      background-color: #E8F0FE;\n",
              "      border: none;\n",
              "      border-radius: 50%;\n",
              "      cursor: pointer;\n",
              "      display: none;\n",
              "      fill: #1967D2;\n",
              "      height: 32px;\n",
              "      padding: 0 0 0 0;\n",
              "      width: 32px;\n",
              "    }\n",
              "\n",
              "    .colab-df-convert:hover {\n",
              "      background-color: #E2EBFA;\n",
              "      box-shadow: 0px 1px 2px rgba(60, 64, 67, 0.3), 0px 1px 3px 1px rgba(60, 64, 67, 0.15);\n",
              "      fill: #174EA6;\n",
              "    }\n",
              "\n",
              "    [theme=dark] .colab-df-convert {\n",
              "      background-color: #3B4455;\n",
              "      fill: #D2E3FC;\n",
              "    }\n",
              "\n",
              "    [theme=dark] .colab-df-convert:hover {\n",
              "      background-color: #434B5C;\n",
              "      box-shadow: 0px 1px 3px 1px rgba(0, 0, 0, 0.15);\n",
              "      filter: drop-shadow(0px 1px 2px rgba(0, 0, 0, 0.3));\n",
              "      fill: #FFFFFF;\n",
              "    }\n",
              "  </style>\n",
              "\n",
              "      <script>\n",
              "        const buttonEl =\n",
              "          document.querySelector('#df-d1c3a000-b19d-41de-be3e-3864b113d167 button.colab-df-convert');\n",
              "        buttonEl.style.display =\n",
              "          google.colab.kernel.accessAllowed ? 'block' : 'none';\n",
              "\n",
              "        async function convertToInteractive(key) {\n",
              "          const element = document.querySelector('#df-d1c3a000-b19d-41de-be3e-3864b113d167');\n",
              "          const dataTable =\n",
              "            await google.colab.kernel.invokeFunction('convertToInteractive',\n",
              "                                                     [key], {});\n",
              "          if (!dataTable) return;\n",
              "\n",
              "          const docLinkHtml = 'Like what you see? Visit the ' +\n",
              "            '<a target=\"_blank\" href=https://colab.research.google.com/notebooks/data_table.ipynb>data table notebook</a>'\n",
              "            + ' to learn more about interactive tables.';\n",
              "          element.innerHTML = '';\n",
              "          dataTable['output_type'] = 'display_data';\n",
              "          await google.colab.output.renderOutput(dataTable, element);\n",
              "          const docLink = document.createElement('div');\n",
              "          docLink.innerHTML = docLinkHtml;\n",
              "          element.appendChild(docLink);\n",
              "        }\n",
              "      </script>\n",
              "    </div>\n",
              "  </div>\n",
              "  "
            ]
          },
          "metadata": {},
          "execution_count": 49
        }
      ]
    },
    {
      "cell_type": "markdown",
      "source": [
        "# Graphical representaion of actual and predicted price"
      ],
      "metadata": {
        "id": "ECLHxslC9fwM"
      }
    },
    {
      "cell_type": "code",
      "source": [
        "# Line plot of Actual and Predicted closing price of test dataset\n",
        "plt.figure(figsize=(20,8))\n",
        "plt.plot(y_pred_test)\n",
        "plt.plot(y_test)\n",
        "plt.legend([\"Predicted price\",\"Actual price\"])\n",
        "plt.show()"
      ],
      "metadata": {
        "colab": {
          "base_uri": "https://localhost:8080/",
          "height": 483
        },
        "id": "aA4c7uBP9pyS",
        "outputId": "086eaf0e-e4fe-492d-808d-7c488e11e571"
      },
      "execution_count": 62,
      "outputs": [
        {
          "output_type": "display_data",
          "data": {
            "text/plain": [
              "<Figure size 1440x576 with 1 Axes>"
            ],
            "image/png": "[encoded data removed]"
          },
          "metadata": {
            "needs_background": "light"
          }
        }
      ]
    }
  ]
}